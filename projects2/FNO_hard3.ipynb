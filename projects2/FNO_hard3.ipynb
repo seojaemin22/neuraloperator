{
 "cells": [
  {
   "cell_type": "code",
   "execution_count": 1,
   "id": "c4d958c6",
   "metadata": {},
   "outputs": [],
   "source": [
    "import sys\n",
    "import os\n",
    "\n",
    "sys.path.append(os.path.abspath(\"..\"))\n",
    "\n",
    "import torch\n",
    "from neuralop.data.datasets.custom_darcy import CustomDarcyDataset, load_darcy_flow\n",
    "import matplotlib.pyplot as plt\n",
    "from neuralop.models import FNO\n",
    "from neuralop import Trainer\n",
    "from neuralop.training import AdamW\n",
    "from neuralop.utils import count_model_params\n",
    "from neuralop import LpLoss, H1Loss"
   ]
  },
  {
   "cell_type": "code",
   "execution_count": 2,
   "id": "4331a9d8",
   "metadata": {},
   "outputs": [
    {
     "name": "stdout",
     "output_type": "stream",
     "text": [
      "'darcy_hard3_ZD_3_2_train_64.pt' not existed.\n"
     ]
    },
    {
     "name": "stderr",
     "output_type": "stream",
     "text": [
      "Generating data/darcy_hard3_ZD_3_2_train_64.pt: 100%|██████████| 1000/1000 [01:01<00:00, 16.28it/s]\n"
     ]
    },
    {
     "name": "stdout",
     "output_type": "stream",
     "text": [
      "data/darcy_hard3_ZD_3_2_train_64.pt saved\n",
      "'darcy_hard3_ZD_3_2_test_64.pt' not existed.\n"
     ]
    },
    {
     "name": "stderr",
     "output_type": "stream",
     "text": [
      "Generating data/darcy_hard3_ZD_3_2_test_64.pt: 100%|██████████| 50/50 [00:03<00:00, 15.74it/s]\n"
     ]
    },
    {
     "name": "stdout",
     "output_type": "stream",
     "text": [
      "data/darcy_hard3_ZD_3_2_test_64.pt saved\n",
      "Loading test db for resolution 64 with 50 samples \n"
     ]
    },
    {
     "name": "stderr",
     "output_type": "stream",
     "text": [
      "/home/jaeminseo/Documents/neuraloperator-main/neuralop/data/datasets/pt_dataset.py:127: UserWarning: Using a non-tuple sequence for multidimensional indexing is deprecated and will be changed in pytorch 2.9; use x[tuple(seq)] instead of x[seq]. In pytorch 2.9 this will be interpreted as tensor index, x[torch.tensor(seq)], which will result either in an error or a different result (Triggered internally at /pytorch/torch/csrc/autograd/python_variable_indexing.cpp:306.)\n",
      "  x_train = x_train[train_input_indices]\n",
      "/home/jaeminseo/Documents/neuraloperator-main/neuralop/data/datasets/pt_dataset.py:150: UserWarning: Using a non-tuple sequence for multidimensional indexing is deprecated and will be changed in pytorch 2.9; use x[tuple(seq)] instead of x[seq]. In pytorch 2.9 this will be interpreted as tensor index, x[torch.tensor(seq)], which will result either in an error or a different result (Triggered internally at /pytorch/torch/csrc/autograd/python_variable_indexing.cpp:306.)\n",
      "  y_train = y_train[train_output_indices]\n",
      "/home/jaeminseo/Documents/neuraloperator-main/neuralop/data/datasets/pt_dataset.py:210: UserWarning: Using a non-tuple sequence for multidimensional indexing is deprecated and will be changed in pytorch 2.9; use x[tuple(seq)] instead of x[seq]. In pytorch 2.9 this will be interpreted as tensor index, x[torch.tensor(seq)], which will result either in an error or a different result (Triggered internally at /pytorch/torch/csrc/autograd/python_variable_indexing.cpp:306.)\n",
      "  x_test = x_test[test_input_indices]\n",
      "/home/jaeminseo/Documents/neuraloperator-main/neuralop/data/datasets/pt_dataset.py:217: UserWarning: Using a non-tuple sequence for multidimensional indexing is deprecated and will be changed in pytorch 2.9; use x[tuple(seq)] instead of x[seq]. In pytorch 2.9 this will be interpreted as tensor index, x[torch.tensor(seq)], which will result either in an error or a different result (Triggered internally at /pytorch/torch/csrc/autograd/python_variable_indexing.cpp:306.)\n",
      "  y_test = y_test[test_output_indices]\n"
     ]
    }
   ],
   "source": [
    "resolution = 64\n",
    "tau = 3\n",
    "alpha = 2\n",
    "\n",
    "train_loader, test_loaders, data_processor = load_darcy_flow(\n",
    "    root_dir=\"./data/\",\n",
    "    dataset_name='darcy',\n",
    "    n_train=1000,\n",
    "    n_tests=[50],\n",
    "    batch_size=100,\n",
    "    test_batch_sizes=[50],\n",
    "    train_resolution=resolution,\n",
    "    test_resolutions=[resolution],\n",
    "    train_data_setting={'tau': tau, 'alpha': alpha, 'boundary': 'ZD', 'coeff_type': 'hard3'},\n",
    "    test_data_settings=[{'tau': tau, 'alpha': alpha, 'boundary': 'ZD', 'coeff_type': 'hard3'}],\n",
    ")"
   ]
  },
  {
   "cell_type": "code",
   "execution_count": 3,
   "id": "4ed88ca8",
   "metadata": {},
   "outputs": [
    {
     "name": "stdout",
     "output_type": "stream",
     "text": [
      "\n",
      "Our model has 4769473 parameters.\n"
     ]
    }
   ],
   "source": [
    "device = torch.device(\"cuda:2\" if torch.cuda.is_available() else \"cpu\")\n",
    "\n",
    "model = FNO(\n",
    "    n_modes=(16, 16),\n",
    "    hidden_channels=64,\n",
    "    in_channels=1,\n",
    "    out_channels=1\n",
    ")\n",
    "model = model.to(device)\n",
    "\n",
    "n_params = count_model_params(model)\n",
    "print(f'\\nOur model has {n_params} parameters.')\n",
    "sys.stdout.flush()"
   ]
  },
  {
   "cell_type": "code",
   "execution_count": 4,
   "id": "8ca4a4ac",
   "metadata": {},
   "outputs": [],
   "source": [
    "n_epochs = 100\n",
    "optimizer = AdamW(model.parameters(), lr=1e-3, weight_decay=1e-4)\n",
    "scheduler = torch.optim.lr_scheduler.CosineAnnealingLR(optimizer, T_max=n_epochs)\n",
    "\n",
    "l2loss = LpLoss(d=2, p=2)\n",
    "h1loss = H1Loss(d=2)\n",
    "\n",
    "train_loss = h1loss\n",
    "eval_losses={'h1': h1loss, 'l2': l2loss}"
   ]
  },
  {
   "cell_type": "code",
   "execution_count": 5,
   "id": "5b08ec02",
   "metadata": {},
   "outputs": [
    {
     "name": "stderr",
     "output_type": "stream",
     "text": [
      "\u001b[34m\u001b[1mwandb\u001b[0m: Currently logged in as: \u001b[33mtjwoals217\u001b[0m (\u001b[33mtjwoals217-Chung-Ang University\u001b[0m) to \u001b[32mhttps://api.wandb.ai\u001b[0m. Use \u001b[1m`wandb login --relogin`\u001b[0m to force relogin\n"
     ]
    },
    {
     "data": {
      "text/html": [
       "Changes to your `wandb` environment variables will be ignored because your `wandb` session has already started. For more information on how to modify your settings with `wandb.init()` arguments, please refer to <a href='https://wandb.me/wandb-init' target=\"_blank\">the W&B docs</a>."
      ],
      "text/plain": [
       "<IPython.core.display.HTML object>"
      ]
     },
     "metadata": {},
     "output_type": "display_data"
    },
    {
     "data": {
      "text/html": [
       "creating run (0.2s)"
      ],
      "text/plain": [
       "<IPython.core.display.HTML object>"
      ]
     },
     "metadata": {},
     "output_type": "display_data"
    },
    {
     "data": {
      "text/html": [
       "Tracking run with wandb version 0.21.2"
      ],
      "text/plain": [
       "<IPython.core.display.HTML object>"
      ]
     },
     "metadata": {},
     "output_type": "display_data"
    },
    {
     "data": {
      "text/html": [
       "Run data is saved locally in <code>/home/jaeminseo/Documents/neuraloperator-main/projects/wandb/run-20250926_191332-kgpcbb9q</code>"
      ],
      "text/plain": [
       "<IPython.core.display.HTML object>"
      ]
     },
     "metadata": {},
     "output_type": "display_data"
    },
    {
     "data": {
      "text/html": [
       "Syncing run <strong><a href='https://wandb.ai/tjwoals217-Chung-Ang%20University/Samsung_Project_test/runs/kgpcbb9q' target=\"_blank\">FNO_Fasttest_3</a></strong> to <a href='https://wandb.ai/tjwoals217-Chung-Ang%20University/Samsung_Project_test' target=\"_blank\">Weights & Biases</a> (<a href='https://wandb.me/developer-guide' target=\"_blank\">docs</a>)<br>"
      ],
      "text/plain": [
       "<IPython.core.display.HTML object>"
      ]
     },
     "metadata": {},
     "output_type": "display_data"
    },
    {
     "data": {
      "text/html": [
       " View project at <a href='https://wandb.ai/tjwoals217-Chung-Ang%20University/Samsung_Project_test' target=\"_blank\">https://wandb.ai/tjwoals217-Chung-Ang%20University/Samsung_Project_test</a>"
      ],
      "text/plain": [
       "<IPython.core.display.HTML object>"
      ]
     },
     "metadata": {},
     "output_type": "display_data"
    },
    {
     "data": {
      "text/html": [
       " View run at <a href='https://wandb.ai/tjwoals217-Chung-Ang%20University/Samsung_Project_test/runs/kgpcbb9q' target=\"_blank\">https://wandb.ai/tjwoals217-Chung-Ang%20University/Samsung_Project_test/runs/kgpcbb9q</a>"
      ],
      "text/plain": [
       "<IPython.core.display.HTML object>"
      ]
     },
     "metadata": {},
     "output_type": "display_data"
    },
    {
     "data": {
      "text/html": [
       "<button onClick=\"this.nextSibling.style.display='block';this.style.display='none';\">Display W&B run</button><iframe src='https://wandb.ai/tjwoals217-Chung-Ang%20University/Samsung_Project_test/runs/kgpcbb9q?jupyter=true' style='border:none;width:100%;height:420px;display:none;'></iframe>"
      ],
      "text/plain": [
       "<wandb.sdk.wandb_run.Run at 0x756944584090>"
      ]
     },
     "execution_count": 5,
     "metadata": {},
     "output_type": "execute_result"
    }
   ],
   "source": [
    "import wandb\n",
    "from datetime import datetime\n",
    "\n",
    "wandb.init(\n",
    "    project='Samsung_Project_test',\n",
    "    name=f'FNO_Fasttest_3'\n",
    ")"
   ]
  },
  {
   "cell_type": "code",
   "execution_count": 6,
   "id": "00c69b09",
   "metadata": {},
   "outputs": [
    {
     "name": "stdout",
     "output_type": "stream",
     "text": [
      "Training on 1000 samples\n",
      "Testing on [50] samples         on resolutions [64].\n"
     ]
    },
    {
     "name": "stderr",
     "output_type": "stream",
     "text": [
      "/home/jaeminseo/anaconda3/envs/PINN2/lib/python3.11/site-packages/tltorch/factorized_tensors/factorized_tensors.py:66: UserWarning: Using a non-tuple sequence for multidimensional indexing is deprecated and will be changed in pytorch 2.9; use x[tuple(seq)] instead of x[seq]. In pytorch 2.9 this will be interpreted as tensor index, x[torch.tensor(seq)], which will result either in an error or a different result (Triggered internally at /pytorch/torch/csrc/autograd/python_variable_indexing.cpp:306.)\n",
      "  return self.__class__(self.tensor[indices])\n",
      "/home/jaeminseo/Documents/neuraloperator-main/neuralop/layers/spectral_convolution.py:486: UserWarning: Using a non-tuple sequence for multidimensional indexing is deprecated and will be changed in pytorch 2.9; use x[tuple(seq)] instead of x[seq]. In pytorch 2.9 this will be interpreted as tensor index, x[torch.tensor(seq)], which will result either in an error or a different result (Triggered internally at /pytorch/torch/csrc/autograd/python_variable_indexing.cpp:306.)\n",
      "  out_fft[slices_x] = self._contract(x[slices_x], weight, separable=self.separable)\n"
     ]
    },
    {
     "name": "stdout",
     "output_type": "stream",
     "text": [
      "Raw outputs of shape torch.Size([100, 1, 64, 64])\n",
      "[0] time=1.11, avg_loss=2.3484, train_err=234.8377\n",
      "Eval: 64_h1=2.8475, 64_l2=2.2301\n",
      "[1] time=0.75, avg_loss=1.1796, train_err=117.9617\n",
      "Eval: 64_h1=1.1880, 64_l2=2.1112\n",
      "[2] time=0.76, avg_loss=0.9623, train_err=96.2337\n",
      "Eval: 64_h1=1.3062, 64_l2=1.8674\n",
      "[3] time=0.76, avg_loss=0.9028, train_err=90.2817\n",
      "Eval: 64_h1=1.1111, 64_l2=1.1806\n",
      "[4] time=0.76, avg_loss=0.8287, train_err=82.8688\n",
      "Eval: 64_h1=0.9846, 64_l2=0.8618\n",
      "[5] time=0.77, avg_loss=0.6805, train_err=68.0507\n",
      "Eval: 64_h1=0.7057, 64_l2=0.5704\n",
      "[6] time=0.76, avg_loss=0.4878, train_err=48.7795\n",
      "Eval: 64_h1=0.5855, 64_l2=0.4606\n",
      "[7] time=0.75, avg_loss=0.4139, train_err=41.3894\n",
      "Eval: 64_h1=0.5187, 64_l2=0.4016\n",
      "[8] time=0.76, avg_loss=0.3613, train_err=36.1276\n",
      "Eval: 64_h1=0.4855, 64_l2=0.3827\n",
      "[9] time=0.76, avg_loss=0.3251, train_err=32.5110\n",
      "Eval: 64_h1=0.4447, 64_l2=0.3599\n",
      "[10] time=0.76, avg_loss=0.2971, train_err=29.7130\n",
      "Eval: 64_h1=0.4104, 64_l2=0.3449\n",
      "[11] time=0.77, avg_loss=0.2676, train_err=26.7632\n",
      "Eval: 64_h1=0.3790, 64_l2=0.3201\n",
      "[12] time=0.75, avg_loss=0.2486, train_err=24.8629\n",
      "Eval: 64_h1=0.3469, 64_l2=0.3027\n",
      "[13] time=0.74, avg_loss=0.2412, train_err=24.1182\n",
      "Eval: 64_h1=0.3471, 64_l2=0.3128\n",
      "[14] time=0.73, avg_loss=0.2336, train_err=23.3637\n",
      "Eval: 64_h1=0.3683, 64_l2=0.2922\n",
      "[15] time=0.75, avg_loss=0.2559, train_err=25.5853\n",
      "Eval: 64_h1=0.3607, 64_l2=0.3036\n",
      "[16] time=0.75, avg_loss=0.3191, train_err=31.9088\n",
      "Eval: 64_h1=0.7487, 64_l2=0.4590\n",
      "[17] time=0.77, avg_loss=0.2885, train_err=28.8498\n",
      "Eval: 64_h1=0.3338, 64_l2=0.3505\n",
      "[18] time=0.75, avg_loss=0.2291, train_err=22.9125\n",
      "Eval: 64_h1=0.3395, 64_l2=0.2867\n",
      "[19] time=0.76, avg_loss=0.2173, train_err=21.7347\n",
      "Eval: 64_h1=0.3269, 64_l2=0.3084\n",
      "[20] time=0.74, avg_loss=0.2039, train_err=20.3862\n",
      "Eval: 64_h1=0.2983, 64_l2=0.2883\n",
      "[21] time=0.76, avg_loss=0.1919, train_err=19.1927\n",
      "Eval: 64_h1=0.2689, 64_l2=0.2647\n",
      "[22] time=0.75, avg_loss=0.1851, train_err=18.5069\n",
      "Eval: 64_h1=0.2544, 64_l2=0.2520\n",
      "[23] time=0.76, avg_loss=0.1712, train_err=17.1192\n",
      "Eval: 64_h1=0.2307, 64_l2=0.2305\n",
      "[24] time=0.74, avg_loss=0.1567, train_err=15.6740\n",
      "Eval: 64_h1=0.1974, 64_l2=0.2098\n",
      "[25] time=0.76, avg_loss=0.1388, train_err=13.8844\n",
      "Eval: 64_h1=0.1611, 64_l2=0.1791\n",
      "[26] time=0.76, avg_loss=0.1317, train_err=13.1724\n",
      "Eval: 64_h1=0.1498, 64_l2=0.1681\n",
      "[27] time=0.74, avg_loss=0.1301, train_err=13.0111\n",
      "Eval: 64_h1=0.1740, 64_l2=0.1914\n",
      "[28] time=0.76, avg_loss=0.1305, train_err=13.0504\n",
      "Eval: 64_h1=0.1655, 64_l2=0.1650\n",
      "[29] time=0.76, avg_loss=0.1190, train_err=11.8996\n",
      "Eval: 64_h1=0.1488, 64_l2=0.1593\n",
      "[30] time=0.76, avg_loss=0.1104, train_err=11.0410\n",
      "Eval: 64_h1=0.1450, 64_l2=0.1488\n",
      "[31] time=0.74, avg_loss=0.1068, train_err=10.6791\n",
      "Eval: 64_h1=0.1288, 64_l2=0.1412\n",
      "[32] time=0.76, avg_loss=0.1004, train_err=10.0415\n",
      "Eval: 64_h1=0.1244, 64_l2=0.1362\n",
      "[33] time=0.75, avg_loss=0.0982, train_err=9.8240\n",
      "Eval: 64_h1=0.1214, 64_l2=0.1333\n",
      "[34] time=0.76, avg_loss=0.0962, train_err=9.6201\n",
      "Eval: 64_h1=0.1172, 64_l2=0.1299\n",
      "[35] time=0.75, avg_loss=0.0936, train_err=9.3632\n",
      "Eval: 64_h1=0.1159, 64_l2=0.1268\n",
      "[36] time=0.76, avg_loss=0.0913, train_err=9.1305\n",
      "Eval: 64_h1=0.1125, 64_l2=0.1247\n",
      "[37] time=0.76, avg_loss=0.0882, train_err=8.8210\n",
      "Eval: 64_h1=0.1120, 64_l2=0.1213\n",
      "[38] time=0.75, avg_loss=0.0867, train_err=8.6723\n",
      "Eval: 64_h1=0.1077, 64_l2=0.1187\n",
      "[39] time=0.75, avg_loss=0.0833, train_err=8.3315\n",
      "Eval: 64_h1=0.1064, 64_l2=0.1148\n",
      "[40] time=0.75, avg_loss=0.0802, train_err=8.0249\n",
      "Eval: 64_h1=0.1028, 64_l2=0.1116\n",
      "[41] time=0.76, avg_loss=0.0776, train_err=7.7642\n",
      "Eval: 64_h1=0.1008, 64_l2=0.1077\n",
      "[42] time=0.75, avg_loss=0.0747, train_err=7.4655\n",
      "Eval: 64_h1=0.0963, 64_l2=0.1037\n",
      "[43] time=0.76, avg_loss=0.0714, train_err=7.1449\n",
      "Eval: 64_h1=0.0939, 64_l2=0.0995\n",
      "[44] time=0.77, avg_loss=0.0686, train_err=6.8599\n",
      "Eval: 64_h1=0.0895, 64_l2=0.0955\n",
      "[45] time=0.75, avg_loss=0.0667, train_err=6.6743\n",
      "Eval: 64_h1=0.0866, 64_l2=0.0910\n",
      "[46] time=0.76, avg_loss=0.0639, train_err=6.3880\n",
      "Eval: 64_h1=0.0826, 64_l2=0.0858\n",
      "[47] time=0.75, avg_loss=0.0606, train_err=6.0576\n",
      "Eval: 64_h1=0.0804, 64_l2=0.0826\n",
      "[48] time=0.74, avg_loss=0.0575, train_err=5.7486\n",
      "Eval: 64_h1=0.0771, 64_l2=0.0798\n",
      "[49] time=0.76, avg_loss=0.0552, train_err=5.5227\n",
      "Eval: 64_h1=0.0755, 64_l2=0.0770\n",
      "[50] time=0.74, avg_loss=0.0530, train_err=5.2964\n",
      "Eval: 64_h1=0.0727, 64_l2=0.0747\n",
      "[51] time=0.76, avg_loss=0.0511, train_err=5.1103\n",
      "Eval: 64_h1=0.0710, 64_l2=0.0715\n",
      "[52] time=0.74, avg_loss=0.0490, train_err=4.8986\n",
      "Eval: 64_h1=0.0680, 64_l2=0.0688\n",
      "[53] time=0.74, avg_loss=0.0467, train_err=4.6702\n",
      "Eval: 64_h1=0.0655, 64_l2=0.0648\n",
      "[54] time=0.76, avg_loss=0.0445, train_err=4.4504\n",
      "Eval: 64_h1=0.0618, 64_l2=0.0616\n",
      "[55] time=0.76, avg_loss=0.0431, train_err=4.3127\n",
      "Eval: 64_h1=0.0604, 64_l2=0.0589\n",
      "[56] time=0.76, avg_loss=0.0417, train_err=4.1717\n",
      "Eval: 64_h1=0.0581, 64_l2=0.0572\n",
      "[57] time=0.75, avg_loss=0.0405, train_err=4.0526\n",
      "Eval: 64_h1=0.0570, 64_l2=0.0552\n",
      "[58] time=0.76, avg_loss=0.0393, train_err=3.9301\n",
      "Eval: 64_h1=0.0553, 64_l2=0.0539\n",
      "[59] time=0.75, avg_loss=0.0384, train_err=3.8405\n",
      "Eval: 64_h1=0.0543, 64_l2=0.0523\n",
      "[60] time=0.74, avg_loss=0.0376, train_err=3.7594\n",
      "Eval: 64_h1=0.0533, 64_l2=0.0513\n",
      "[61] time=0.74, avg_loss=0.0372, train_err=3.7208\n",
      "Eval: 64_h1=0.0525, 64_l2=0.0503\n",
      "[62] time=0.75, avg_loss=0.0366, train_err=3.6558\n",
      "Eval: 64_h1=0.0516, 64_l2=0.0496\n",
      "[63] time=0.74, avg_loss=0.0357, train_err=3.5730\n",
      "Eval: 64_h1=0.0509, 64_l2=0.0487\n",
      "[64] time=0.76, avg_loss=0.0351, train_err=3.5103\n",
      "Eval: 64_h1=0.0504, 64_l2=0.0479\n",
      "[65] time=0.74, avg_loss=0.0347, train_err=3.4708\n",
      "Eval: 64_h1=0.0501, 64_l2=0.0472\n",
      "[66] time=0.76, avg_loss=0.0343, train_err=3.4254\n",
      "Eval: 64_h1=0.0491, 64_l2=0.0465\n",
      "[67] time=0.75, avg_loss=0.0337, train_err=3.3680\n",
      "Eval: 64_h1=0.0485, 64_l2=0.0460\n",
      "[68] time=0.76, avg_loss=0.0330, train_err=3.3035\n",
      "Eval: 64_h1=0.0482, 64_l2=0.0455\n",
      "[69] time=0.76, avg_loss=0.0326, train_err=3.2561\n",
      "Eval: 64_h1=0.0478, 64_l2=0.0451\n",
      "[70] time=0.77, avg_loss=0.0322, train_err=3.2211\n",
      "Eval: 64_h1=0.0473, 64_l2=0.0447\n",
      "[71] time=0.75, avg_loss=0.0319, train_err=3.1873\n",
      "Eval: 64_h1=0.0470, 64_l2=0.0443\n",
      "[72] time=0.74, avg_loss=0.0316, train_err=3.1614\n",
      "Eval: 64_h1=0.0467, 64_l2=0.0440\n",
      "[73] time=0.76, avg_loss=0.0314, train_err=3.1376\n",
      "Eval: 64_h1=0.0464, 64_l2=0.0437\n",
      "[74] time=0.75, avg_loss=0.0312, train_err=3.1168\n",
      "Eval: 64_h1=0.0462, 64_l2=0.0435\n",
      "[75] time=0.75, avg_loss=0.0310, train_err=3.1029\n",
      "Eval: 64_h1=0.0461, 64_l2=0.0433\n",
      "[76] time=0.76, avg_loss=0.0309, train_err=3.0947\n",
      "Eval: 64_h1=0.0460, 64_l2=0.0432\n",
      "[77] time=0.75, avg_loss=0.0310, train_err=3.0959\n",
      "Eval: 64_h1=0.0458, 64_l2=0.0430\n",
      "[78] time=0.75, avg_loss=0.0310, train_err=3.1050\n",
      "Eval: 64_h1=0.0455, 64_l2=0.0425\n",
      "[79] time=0.76, avg_loss=0.0310, train_err=3.1001\n",
      "Eval: 64_h1=0.0461, 64_l2=0.0425\n",
      "[80] time=0.74, avg_loss=0.0311, train_err=3.1091\n",
      "Eval: 64_h1=0.0454, 64_l2=0.0426\n",
      "[81] time=0.75, avg_loss=0.0308, train_err=3.0812\n",
      "Eval: 64_h1=0.0453, 64_l2=0.0428\n",
      "[82] time=0.76, avg_loss=0.0305, train_err=3.0494\n",
      "Eval: 64_h1=0.0453, 64_l2=0.0425\n",
      "[83] time=0.75, avg_loss=0.0302, train_err=3.0159\n",
      "Eval: 64_h1=0.0446, 64_l2=0.0420\n",
      "[84] time=0.76, avg_loss=0.0298, train_err=2.9842\n",
      "Eval: 64_h1=0.0441, 64_l2=0.0415\n",
      "[85] time=0.74, avg_loss=0.0296, train_err=2.9588\n",
      "Eval: 64_h1=0.0439, 64_l2=0.0412\n",
      "[86] time=0.76, avg_loss=0.0295, train_err=2.9465\n",
      "Eval: 64_h1=0.0438, 64_l2=0.0411\n",
      "[87] time=0.75, avg_loss=0.0294, train_err=2.9376\n",
      "Eval: 64_h1=0.0438, 64_l2=0.0410\n",
      "[88] time=0.76, avg_loss=0.0293, train_err=2.9276\n",
      "Eval: 64_h1=0.0437, 64_l2=0.0409\n",
      "[89] time=0.75, avg_loss=0.0292, train_err=2.9222\n",
      "Eval: 64_h1=0.0436, 64_l2=0.0409\n",
      "[90] time=0.76, avg_loss=0.0292, train_err=2.9218\n",
      "Eval: 64_h1=0.0435, 64_l2=0.0409\n",
      "[91] time=0.75, avg_loss=0.0292, train_err=2.9190\n",
      "Eval: 64_h1=0.0435, 64_l2=0.0410\n",
      "[92] time=0.76, avg_loss=0.0291, train_err=2.9138\n",
      "Eval: 64_h1=0.0435, 64_l2=0.0410\n",
      "[93] time=0.79, avg_loss=0.0291, train_err=2.9084\n",
      "Eval: 64_h1=0.0434, 64_l2=0.0408\n",
      "[94] time=0.75, avg_loss=0.0290, train_err=2.9041\n",
      "Eval: 64_h1=0.0434, 64_l2=0.0408\n",
      "[95] time=0.76, avg_loss=0.0290, train_err=2.9029\n",
      "Eval: 64_h1=0.0434, 64_l2=0.0408\n",
      "[96] time=0.76, avg_loss=0.0290, train_err=2.9016\n",
      "Eval: 64_h1=0.0434, 64_l2=0.0408\n",
      "[97] time=0.74, avg_loss=0.0290, train_err=2.9011\n",
      "Eval: 64_h1=0.0434, 64_l2=0.0408\n",
      "[98] time=0.76, avg_loss=0.0290, train_err=2.9007\n",
      "Eval: 64_h1=0.0434, 64_l2=0.0408\n",
      "[99] time=0.75, avg_loss=0.0290, train_err=2.9004\n",
      "Eval: 64_h1=0.0434, 64_l2=0.0408\n"
     ]
    },
    {
     "data": {
      "text/plain": [
       "{'train_err': 2.9004485099434576,\n",
       " 'avg_loss': 0.029004485099434575,\n",
       " 'avg_lasso_loss': None,\n",
       " 'epoch_train_time': 0.7508525000012014,\n",
       " '64_h1': tensor(0.0434, device='cuda:2', dtype=torch.float64),\n",
       " '64_l2': tensor(0.0408, device='cuda:2', dtype=torch.float64)}"
      ]
     },
     "execution_count": 6,
     "metadata": {},
     "output_type": "execute_result"
    }
   ],
   "source": [
    "trainer = Trainer(model=model, \n",
    "                  n_epochs=n_epochs,\n",
    "                  device=device,\n",
    "                  data_processor=data_processor,\n",
    "                  wandb_log=True,\n",
    "                  eval_interval=1,\n",
    "                  use_distributed=False,\n",
    "                  verbose=True)\n",
    "\n",
    "trainer.train(train_loader=train_loader,\n",
    "              test_loaders=test_loaders,\n",
    "              optimizer=optimizer,\n",
    "              scheduler=scheduler, \n",
    "              regularizer=False, \n",
    "              training_loss=train_loss,\n",
    "              eval_losses=eval_losses)"
   ]
  },
  {
   "cell_type": "code",
   "execution_count": 7,
   "id": "2e4f762c",
   "metadata": {},
   "outputs": [
    {
     "name": "stderr",
     "output_type": "stream",
     "text": [
      "\u001b[34m\u001b[1mwandb\u001b[0m: \u001b[32m\u001b[41mERROR\u001b[0m The nbformat package was not found. It is required to save notebook history.\n"
     ]
    },
    {
     "data": {
      "text/html": [],
      "text/plain": [
       "<IPython.core.display.HTML object>"
      ]
     },
     "metadata": {},
     "output_type": "display_data"
    },
    {
     "data": {
      "text/html": [
       "<br>    <style><br>        .wandb-row {<br>            display: flex;<br>            flex-direction: row;<br>            flex-wrap: wrap;<br>            justify-content: flex-start;<br>            width: 100%;<br>        }<br>        .wandb-col {<br>            display: flex;<br>            flex-direction: column;<br>            flex-basis: 100%;<br>            flex: 1;<br>            padding: 10px;<br>        }<br>    </style><br><div class=\"wandb-row\"><div class=\"wandb-col\"><h3>Run history:</h3><br/><table class=\"wandb\"><tr><td>64_h1</td><td>█▄▄▃▂▃▂▂▂▂▁▁▁▁▁▁▁▁▁▁▁▁▁▁▁▁▁▁▁▁▁▁▁▁▁▁▁▁▁▁</td></tr><tr><td>64_l2</td><td>██▅▄▃▂▂▂▂▂▂▂▂▂▁▁▁▁▁▁▁▁▁▁▁▁▁▁▁▁▁▁▁▁▁▁▁▁▁▁</td></tr><tr><td>avg_loss</td><td>██▄▄▃▂▂▂▂▂▂▂▂▂▁▁▁▁▁▁▁▁▁▁▁▁▁▁▁▁▁▁▁▁▁▁▁▁▁▁</td></tr><tr><td>lr</td><td>███████▇▇▇▇▆▆▆▆▆▆▅▅▅▄▄▄▄▃▃▃▃▃▂▂▂▂▂▂▁▁▁▁▁</td></tr><tr><td>time</td><td>▆▆▇▆▇▃▄▁▇▃▆▆▁▇▄█▃▇▅▂▁▇▆▁▁▅▆▆▂▆▆▄▇▅▅▇▄▃▇▁</td></tr><tr><td>train_err</td><td>█▄▃▃▃▃▂▂▂▂▂▂▁▁▁▁▁▁▁▁▁▁▁▁▁▁▁▁▁▁▁▁▁▁▁▁▁▁▁▁</td></tr></table><br/></div><div class=\"wandb-col\"><h3>Run summary:</h3><br/><table class=\"wandb\"><tr><td>64_h1</td><td>0.0434</td></tr><tr><td>64_l2</td><td>0.04077</td></tr><tr><td>avg_loss</td><td>0.029</td></tr><tr><td>lr</td><td>0</td></tr><tr><td>time</td><td>0.75085</td></tr><tr><td>train_err</td><td>2.90045</td></tr></table><br/></div></div>"
      ],
      "text/plain": [
       "<IPython.core.display.HTML object>"
      ]
     },
     "metadata": {},
     "output_type": "display_data"
    },
    {
     "data": {
      "text/html": [
       " View run <strong style=\"color:#cdcd00\">FNO_Fasttest_3</strong> at: <a href='https://wandb.ai/tjwoals217-Chung-Ang%20University/Samsung_Project_test/runs/kgpcbb9q' target=\"_blank\">https://wandb.ai/tjwoals217-Chung-Ang%20University/Samsung_Project_test/runs/kgpcbb9q</a><br> View project at: <a href='https://wandb.ai/tjwoals217-Chung-Ang%20University/Samsung_Project_test' target=\"_blank\">https://wandb.ai/tjwoals217-Chung-Ang%20University/Samsung_Project_test</a><br>Synced 5 W&B file(s), 0 media file(s), 0 artifact file(s) and 0 other file(s)"
      ],
      "text/plain": [
       "<IPython.core.display.HTML object>"
      ]
     },
     "metadata": {},
     "output_type": "display_data"
    },
    {
     "data": {
      "text/html": [
       "Find logs at: <code>./wandb/run-20250926_191332-kgpcbb9q/logs</code>"
      ],
      "text/plain": [
       "<IPython.core.display.HTML object>"
      ]
     },
     "metadata": {},
     "output_type": "display_data"
    }
   ],
   "source": [
    "wandb.finish()"
   ]
  },
  {
   "cell_type": "code",
   "execution_count": 8,
   "id": "45c4fa14",
   "metadata": {},
   "outputs": [
    {
     "name": "stdout",
     "output_type": "stream",
     "text": [
      "L2 error (0) : 0.03662143384603709\n",
      "L2 error (1) : 0.02531585062503114\n",
      "L2 error (2) : 0.02228488828634622\n"
     ]
    },
    {
     "name": "stderr",
     "output_type": "stream",
     "text": [
      "/home/jaeminseo/anaconda3/envs/PINN2/lib/python3.11/site-packages/tltorch/factorized_tensors/factorized_tensors.py:66: UserWarning: Using a non-tuple sequence for multidimensional indexing is deprecated and will be changed in pytorch 2.9; use x[tuple(seq)] instead of x[seq]. In pytorch 2.9 this will be interpreted as tensor index, x[torch.tensor(seq)], which will result either in an error or a different result (Triggered internally at /pytorch/torch/csrc/autograd/python_variable_indexing.cpp:306.)\n",
      "  return self.__class__(self.tensor[indices])\n",
      "/home/jaeminseo/Documents/neuraloperator-main/neuralop/layers/spectral_convolution.py:486: UserWarning: Using a non-tuple sequence for multidimensional indexing is deprecated and will be changed in pytorch 2.9; use x[tuple(seq)] instead of x[seq]. In pytorch 2.9 this will be interpreted as tensor index, x[torch.tensor(seq)], which will result either in an error or a different result (Triggered internally at /pytorch/torch/csrc/autograd/python_variable_indexing.cpp:306.)\n",
      "  out_fft[slices_x] = self._contract(x[slices_x], weight, separable=self.separable)\n",
      "/home/jaeminseo/anaconda3/envs/PINN2/lib/python3.11/site-packages/tltorch/factorized_tensors/factorized_tensors.py:66: UserWarning: Using a non-tuple sequence for multidimensional indexing is deprecated and will be changed in pytorch 2.9; use x[tuple(seq)] instead of x[seq]. In pytorch 2.9 this will be interpreted as tensor index, x[torch.tensor(seq)], which will result either in an error or a different result (Triggered internally at /pytorch/torch/csrc/autograd/python_variable_indexing.cpp:306.)\n",
      "  return self.__class__(self.tensor[indices])\n",
      "/home/jaeminseo/Documents/neuraloperator-main/neuralop/layers/spectral_convolution.py:486: UserWarning: Using a non-tuple sequence for multidimensional indexing is deprecated and will be changed in pytorch 2.9; use x[tuple(seq)] instead of x[seq]. In pytorch 2.9 this will be interpreted as tensor index, x[torch.tensor(seq)], which will result either in an error or a different result (Triggered internally at /pytorch/torch/csrc/autograd/python_variable_indexing.cpp:306.)\n",
      "  out_fft[slices_x] = self._contract(x[slices_x], weight, separable=self.separable)\n"
     ]
    },
    {
     "data": {
      "image/png": "[encoded data removed]",
      "text/plain": [
       "<Figure size 1000x1000 with 15 Axes>"
      ]
     },
     "metadata": {},
     "output_type": "display_data"
    }
   ],
   "source": [
    "test_samples = test_loaders[64].dataset\n",
    "\n",
    "# # Step 1: Compute global min and max for consistent color scaling\n",
    "# vmin, vmax = float('inf'), float('-inf')\n",
    "# for index in range(3):\n",
    "#     data = test_samples[index]\n",
    "#     data = data_processor.preprocess(data, batched=False)\n",
    "\n",
    "#     x = data['x']\n",
    "#     y = data['y']\n",
    "#     out = model(x.unsqueeze(0))\n",
    "\n",
    "#     y = data_processor.out_normalizer.inverse_transform(y).squeeze().detach()\n",
    "#     out = data_processor.out_normalizer.inverse_transform(out).squeeze().detach()\n",
    "\n",
    "#     vmin = min(vmin, y.min().item(), out.min().item())\n",
    "#     vmax = max(vmax, y.max().item(), out.max().item())\n",
    "\n",
    "# Step 2: Plot with consistent vmin/vmax and add colorbars\n",
    "fig = plt.figure(figsize=(10, 10))\n",
    "\n",
    "for index in range(3):\n",
    "    data = test_samples[index]\n",
    "    data = data_processor.preprocess(data, batched=False)\n",
    "\n",
    "    x = data['x'].to(device)\n",
    "    y = data['y'].to(device)\n",
    "    out = model(x.unsqueeze(0)).squeeze().detach()\n",
    "\n",
    "    # y = data_processor.out_normalizer.inverse_transform(y)\n",
    "    out = data_processor.out_normalizer.inverse_transform(out)\n",
    "\n",
    "    # Input x\n",
    "    ax = fig.add_subplot(3, 3, index * 3 + 1)\n",
    "    im = ax.imshow(x[0].cpu(), cmap='gray')\n",
    "    if index == 0: \n",
    "        ax.set_title('Input x')\n",
    "    plt.xticks([], [])\n",
    "    plt.yticks([], [])\n",
    "    \n",
    "    # Ground-truth y\n",
    "    ax = fig.add_subplot(3, 3, index * 3 + 2)\n",
    "    im = ax.imshow(y.squeeze().cpu())\n",
    "    if index == 0: \n",
    "        ax.set_title('Ground-truth y')\n",
    "    plt.xticks([], [])\n",
    "    plt.yticks([], [])\n",
    "    fig.colorbar(im, ax=ax, fraction=0.046, pad=0.04)\n",
    "\n",
    "    # Model prediction\n",
    "    ax = fig.add_subplot(3, 3, index * 3 + 3)\n",
    "    im = ax.imshow(out.squeeze().cpu())\n",
    "    if index == 0: \n",
    "        ax.set_title('Model prediction')\n",
    "    plt.xticks([], [])\n",
    "    plt.yticks([], [])\n",
    "    fig.colorbar(im, ax=ax, fraction=0.046, pad=0.04)\n",
    "\n",
    "    print(f'L2 error ({index}) : {torch.norm(out - y) / torch.norm(y)}')\n",
    "\n",
    "fig.suptitle('Inputs, ground-truth output and prediction.', y=0.98)\n",
    "plt.tight_layout()\n",
    "plt.show()"
   ]
  },
  {
   "cell_type": "code",
   "execution_count": null,
   "id": "01f5e684",
   "metadata": {},
   "outputs": [],
   "source": []
  }
 ],
 "metadata": {
  "kernelspec": {
   "display_name": "PINN2",
   "language": "python",
   "name": "python3"
  },
  "language_info": {
   "codemirror_mode": {
    "name": "ipython",
    "version": 3
   },
   "file_extension": ".py",
   "mimetype": "text/x-python",
   "name": "python",
   "nbconvert_exporter": "python",
   "pygments_lexer": "ipython3",
   "version": "3.11.13"
  }
 },
 "nbformat": 4,
 "nbformat_minor": 5
}
