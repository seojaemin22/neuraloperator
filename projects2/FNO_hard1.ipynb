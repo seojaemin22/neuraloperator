{
 "cells": [
  {
   "cell_type": "code",
   "execution_count": 1,
   "id": "c4d958c6",
   "metadata": {},
   "outputs": [],
   "source": [
    "import sys\n",
    "import os\n",
    "\n",
    "sys.path.append(os.path.abspath(\"..\"))\n",
    "\n",
    "import torch\n",
    "from neuralop.data.datasets.custom_darcy import CustomDarcyDataset, load_darcy_flow\n",
    "import matplotlib.pyplot as plt\n",
    "from neuralop.models import FNO\n",
    "from neuralop import Trainer\n",
    "from neuralop.training import AdamW\n",
    "from neuralop.utils import count_model_params\n",
    "from neuralop import LpLoss, H1Loss"
   ]
  },
  {
   "cell_type": "code",
   "execution_count": 2,
   "id": "4331a9d8",
   "metadata": {},
   "outputs": [
    {
     "name": "stdout",
     "output_type": "stream",
     "text": [
      "'darcy_hard1_ZD_3_2_train_64.pt' not existed.\n"
     ]
    },
    {
     "name": "stderr",
     "output_type": "stream",
     "text": [
      "Generating data/darcy_hard1_ZD_3_2_train_64.pt: 100%|██████████| 1000/1000 [01:21<00:00, 12.23it/s]\n"
     ]
    },
    {
     "name": "stdout",
     "output_type": "stream",
     "text": [
      "data/darcy_hard1_ZD_3_2_train_64.pt saved\n",
      "'darcy_hard1_ZD_3_2_test_64.pt' not existed.\n"
     ]
    },
    {
     "name": "stderr",
     "output_type": "stream",
     "text": [
      "Generating data/darcy_hard1_ZD_3_2_test_64.pt: 100%|██████████| 50/50 [00:04<00:00, 12.05it/s]"
     ]
    },
    {
     "name": "stdout",
     "output_type": "stream",
     "text": [
      "data/darcy_hard1_ZD_3_2_test_64.pt saved\n",
      "Loading test db for resolution 64 with 50 samples \n"
     ]
    },
    {
     "name": "stderr",
     "output_type": "stream",
     "text": [
      "\n",
      "/home/jaeminseo/Documents/neuraloperator-main/neuralop/data/datasets/pt_dataset.py:127: UserWarning: Using a non-tuple sequence for multidimensional indexing is deprecated and will be changed in pytorch 2.9; use x[tuple(seq)] instead of x[seq]. In pytorch 2.9 this will be interpreted as tensor index, x[torch.tensor(seq)], which will result either in an error or a different result (Triggered internally at /pytorch/torch/csrc/autograd/python_variable_indexing.cpp:306.)\n",
      "  x_train = x_train[train_input_indices]\n",
      "/home/jaeminseo/Documents/neuraloperator-main/neuralop/data/datasets/pt_dataset.py:150: UserWarning: Using a non-tuple sequence for multidimensional indexing is deprecated and will be changed in pytorch 2.9; use x[tuple(seq)] instead of x[seq]. In pytorch 2.9 this will be interpreted as tensor index, x[torch.tensor(seq)], which will result either in an error or a different result (Triggered internally at /pytorch/torch/csrc/autograd/python_variable_indexing.cpp:306.)\n",
      "  y_train = y_train[train_output_indices]\n",
      "/home/jaeminseo/Documents/neuraloperator-main/neuralop/data/datasets/pt_dataset.py:210: UserWarning: Using a non-tuple sequence for multidimensional indexing is deprecated and will be changed in pytorch 2.9; use x[tuple(seq)] instead of x[seq]. In pytorch 2.9 this will be interpreted as tensor index, x[torch.tensor(seq)], which will result either in an error or a different result (Triggered internally at /pytorch/torch/csrc/autograd/python_variable_indexing.cpp:306.)\n",
      "  x_test = x_test[test_input_indices]\n",
      "/home/jaeminseo/Documents/neuraloperator-main/neuralop/data/datasets/pt_dataset.py:217: UserWarning: Using a non-tuple sequence for multidimensional indexing is deprecated and will be changed in pytorch 2.9; use x[tuple(seq)] instead of x[seq]. In pytorch 2.9 this will be interpreted as tensor index, x[torch.tensor(seq)], which will result either in an error or a different result (Triggered internally at /pytorch/torch/csrc/autograd/python_variable_indexing.cpp:306.)\n",
      "  y_test = y_test[test_output_indices]\n"
     ]
    }
   ],
   "source": [
    "resolution = 64\n",
    "tau = 3\n",
    "alpha = 2\n",
    "\n",
    "train_loader, test_loaders, data_processor = load_darcy_flow(\n",
    "    root_dir=\"./data/\",\n",
    "    dataset_name='darcy',\n",
    "    n_train=1000,\n",
    "    n_tests=[50],\n",
    "    batch_size=100,\n",
    "    test_batch_sizes=[50],\n",
    "    train_resolution=resolution,\n",
    "    test_resolutions=[resolution],\n",
    "    train_data_setting={'tau': tau, 'alpha': alpha, 'boundary': 'ZD', 'coeff_type': 'hard1'},\n",
    "    test_data_settings=[{'tau': tau, 'alpha': alpha, 'boundary': 'ZD', 'coeff_type': 'hard1'}],\n",
    ")"
   ]
  },
  {
   "cell_type": "code",
   "execution_count": null,
   "id": "4ed88ca8",
   "metadata": {},
   "outputs": [
    {
     "name": "stdout",
     "output_type": "stream",
     "text": [
      "\n",
      "Our model has 4769473 parameters.\n"
     ]
    }
   ],
   "source": [
    "device = torch.device(\"cuda:0\" if torch.cuda.is_available() else \"cpu\")\n",
    "\n",
    "model = FNO(\n",
    "    n_modes=(16, 16),\n",
    "    hidden_channels=64,\n",
    "    in_channels=1,\n",
    "    out_channels=1\n",
    ")\n",
    "model = model.to(device)\n",
    "\n",
    "n_params = count_model_params(model)\n",
    "print(f'\\nOur model has {n_params} parameters.')\n",
    "sys.stdout.flush()"
   ]
  },
  {
   "cell_type": "code",
   "execution_count": 4,
   "id": "8ca4a4ac",
   "metadata": {},
   "outputs": [],
   "source": [
    "n_epochs = 100\n",
    "optimizer = AdamW(model.parameters(), lr=1e-3, weight_decay=1e-4)\n",
    "scheduler = torch.optim.lr_scheduler.CosineAnnealingLR(optimizer, T_max=n_epochs)\n",
    "\n",
    "l2loss = LpLoss(d=2, p=2)\n",
    "h1loss = H1Loss(d=2)\n",
    "\n",
    "train_loss = h1loss\n",
    "eval_losses={'h1': h1loss, 'l2': l2loss}"
   ]
  },
  {
   "cell_type": "code",
   "execution_count": 5,
   "id": "5b08ec02",
   "metadata": {},
   "outputs": [
    {
     "name": "stderr",
     "output_type": "stream",
     "text": [
      "\u001b[34m\u001b[1mwandb\u001b[0m: Currently logged in as: \u001b[33mtjwoals217\u001b[0m (\u001b[33mtjwoals217-Chung-Ang University\u001b[0m) to \u001b[32mhttps://api.wandb.ai\u001b[0m. Use \u001b[1m`wandb login --relogin`\u001b[0m to force relogin\n"
     ]
    },
    {
     "data": {
      "text/html": [
       "Changes to your `wandb` environment variables will be ignored because your `wandb` session has already started. For more information on how to modify your settings with `wandb.init()` arguments, please refer to <a href='https://wandb.me/wandb-init' target=\"_blank\">the W&B docs</a>."
      ],
      "text/plain": [
       "<IPython.core.display.HTML object>"
      ]
     },
     "metadata": {},
     "output_type": "display_data"
    },
    {
     "data": {
      "text/html": [
       "creating run (0.1s)"
      ],
      "text/plain": [
       "<IPython.core.display.HTML object>"
      ]
     },
     "metadata": {},
     "output_type": "display_data"
    },
    {
     "data": {
      "text/html": [
       "Tracking run with wandb version 0.21.2"
      ],
      "text/plain": [
       "<IPython.core.display.HTML object>"
      ]
     },
     "metadata": {},
     "output_type": "display_data"
    },
    {
     "data": {
      "text/html": [
       "Run data is saved locally in <code>/home/jaeminseo/Documents/neuraloperator-main/projects/wandb/run-20250926_185908-2y4mek3j</code>"
      ],
      "text/plain": [
       "<IPython.core.display.HTML object>"
      ]
     },
     "metadata": {},
     "output_type": "display_data"
    },
    {
     "data": {
      "text/html": [
       "Syncing run <strong><a href='https://wandb.ai/tjwoals217-Chung-Ang%20University/Samsung_Project_test/runs/2y4mek3j' target=\"_blank\">FNO_Fasttest_1</a></strong> to <a href='https://wandb.ai/tjwoals217-Chung-Ang%20University/Samsung_Project_test' target=\"_blank\">Weights & Biases</a> (<a href='https://wandb.me/developer-guide' target=\"_blank\">docs</a>)<br>"
      ],
      "text/plain": [
       "<IPython.core.display.HTML object>"
      ]
     },
     "metadata": {},
     "output_type": "display_data"
    },
    {
     "data": {
      "text/html": [
       " View project at <a href='https://wandb.ai/tjwoals217-Chung-Ang%20University/Samsung_Project_test' target=\"_blank\">https://wandb.ai/tjwoals217-Chung-Ang%20University/Samsung_Project_test</a>"
      ],
      "text/plain": [
       "<IPython.core.display.HTML object>"
      ]
     },
     "metadata": {},
     "output_type": "display_data"
    },
    {
     "data": {
      "text/html": [
       " View run at <a href='https://wandb.ai/tjwoals217-Chung-Ang%20University/Samsung_Project_test/runs/2y4mek3j' target=\"_blank\">https://wandb.ai/tjwoals217-Chung-Ang%20University/Samsung_Project_test/runs/2y4mek3j</a>"
      ],
      "text/plain": [
       "<IPython.core.display.HTML object>"
      ]
     },
     "metadata": {},
     "output_type": "display_data"
    },
    {
     "data": {
      "text/html": [
       "<button onClick=\"this.nextSibling.style.display='block';this.style.display='none';\">Display W&B run</button><iframe src='https://wandb.ai/tjwoals217-Chung-Ang%20University/Samsung_Project_test/runs/2y4mek3j?jupyter=true' style='border:none;width:100%;height:420px;display:none;'></iframe>"
      ],
      "text/plain": [
       "<wandb.sdk.wandb_run.Run at 0x74a2fd43be90>"
      ]
     },
     "execution_count": 5,
     "metadata": {},
     "output_type": "execute_result"
    }
   ],
   "source": [
    "import wandb\n",
    "from datetime import datetime\n",
    "\n",
    "wandb.init(\n",
    "    project='Samsung_Project_test',\n",
    "    name=f'FNO_Fasttest_1'\n",
    ")"
   ]
  },
  {
   "cell_type": "code",
   "execution_count": 6,
   "id": "00c69b09",
   "metadata": {},
   "outputs": [
    {
     "name": "stdout",
     "output_type": "stream",
     "text": [
      "Training on 1000 samples\n",
      "Testing on [50] samples         on resolutions [64].\n"
     ]
    },
    {
     "name": "stderr",
     "output_type": "stream",
     "text": [
      "/home/jaeminseo/anaconda3/envs/PINN2/lib/python3.11/site-packages/tltorch/factorized_tensors/factorized_tensors.py:66: UserWarning: Using a non-tuple sequence for multidimensional indexing is deprecated and will be changed in pytorch 2.9; use x[tuple(seq)] instead of x[seq]. In pytorch 2.9 this will be interpreted as tensor index, x[torch.tensor(seq)], which will result either in an error or a different result (Triggered internally at /pytorch/torch/csrc/autograd/python_variable_indexing.cpp:306.)\n",
      "  return self.__class__(self.tensor[indices])\n",
      "/home/jaeminseo/Documents/neuraloperator-main/neuralop/layers/spectral_convolution.py:486: UserWarning: Using a non-tuple sequence for multidimensional indexing is deprecated and will be changed in pytorch 2.9; use x[tuple(seq)] instead of x[seq]. In pytorch 2.9 this will be interpreted as tensor index, x[torch.tensor(seq)], which will result either in an error or a different result (Triggered internally at /pytorch/torch/csrc/autograd/python_variable_indexing.cpp:306.)\n",
      "  out_fft[slices_x] = self._contract(x[slices_x], weight, separable=self.separable)\n"
     ]
    },
    {
     "name": "stdout",
     "output_type": "stream",
     "text": [
      "Raw outputs of shape torch.Size([100, 1, 64, 64])\n",
      "[0] time=1.13, avg_loss=1.1620, train_err=116.2022\n",
      "Eval: 64_h1=1.0157, 64_l2=1.0627\n",
      "[1] time=0.75, avg_loss=0.9852, train_err=98.5162\n",
      "Eval: 64_h1=1.0033, 64_l2=1.0129\n",
      "[2] time=0.76, avg_loss=0.9706, train_err=97.0630\n",
      "Eval: 64_h1=0.9957, 64_l2=0.9756\n",
      "[3] time=0.75, avg_loss=0.9445, train_err=94.4535\n",
      "Eval: 64_h1=0.9247, 64_l2=0.8587\n",
      "[4] time=0.74, avg_loss=0.8488, train_err=84.8818\n",
      "Eval: 64_h1=0.7789, 64_l2=0.6719\n",
      "[5] time=0.76, avg_loss=0.7156, train_err=71.5590\n",
      "Eval: 64_h1=0.6831, 64_l2=0.5466\n",
      "[6] time=0.75, avg_loss=0.6261, train_err=62.6142\n",
      "Eval: 64_h1=0.5909, 64_l2=0.4651\n",
      "[7] time=0.76, avg_loss=0.5589, train_err=55.8914\n",
      "Eval: 64_h1=0.5506, 64_l2=0.4454\n",
      "[8] time=0.76, avg_loss=0.5243, train_err=52.4253\n",
      "Eval: 64_h1=0.5309, 64_l2=0.3996\n",
      "[9] time=0.76, avg_loss=0.5059, train_err=50.5919\n",
      "Eval: 64_h1=0.5011, 64_l2=0.3911\n",
      "[10] time=0.74, avg_loss=0.4766, train_err=47.6595\n",
      "Eval: 64_h1=0.4896, 64_l2=0.3570\n",
      "[11] time=0.76, avg_loss=0.4695, train_err=46.9485\n",
      "Eval: 64_h1=0.4687, 64_l2=0.3377\n",
      "[12] time=0.76, avg_loss=0.4522, train_err=45.2171\n",
      "Eval: 64_h1=0.4690, 64_l2=0.3362\n",
      "[13] time=0.76, avg_loss=0.4447, train_err=44.4725\n",
      "Eval: 64_h1=0.4621, 64_l2=0.3269\n",
      "[14] time=0.76, avg_loss=0.4394, train_err=43.9440\n",
      "Eval: 64_h1=0.4596, 64_l2=0.3321\n",
      "[15] time=0.75, avg_loss=0.4450, train_err=44.4968\n",
      "Eval: 64_h1=0.4448, 64_l2=0.3148\n",
      "[16] time=0.76, avg_loss=0.4333, train_err=43.3333\n",
      "Eval: 64_h1=0.4414, 64_l2=0.3140\n",
      "[17] time=0.76, avg_loss=0.4201, train_err=42.0134\n",
      "Eval: 64_h1=0.4409, 64_l2=0.3088\n",
      "[18] time=0.76, avg_loss=0.4181, train_err=41.8053\n",
      "Eval: 64_h1=0.4411, 64_l2=0.3205\n",
      "[19] time=0.76, avg_loss=0.4119, train_err=41.1922\n",
      "Eval: 64_h1=0.4343, 64_l2=0.3056\n",
      "[20] time=0.76, avg_loss=0.4053, train_err=40.5278\n",
      "Eval: 64_h1=0.4359, 64_l2=0.3017\n",
      "[21] time=0.75, avg_loss=0.4047, train_err=40.4669\n",
      "Eval: 64_h1=0.4271, 64_l2=0.2904\n",
      "[22] time=0.75, avg_loss=0.3999, train_err=39.9855\n",
      "Eval: 64_h1=0.4368, 64_l2=0.3174\n",
      "[23] time=0.77, avg_loss=0.3947, train_err=39.4684\n",
      "Eval: 64_h1=0.4288, 64_l2=0.2928\n",
      "[24] time=0.76, avg_loss=0.3883, train_err=38.8274\n",
      "Eval: 64_h1=0.4205, 64_l2=0.2807\n",
      "[25] time=0.75, avg_loss=0.3836, train_err=38.3589\n",
      "Eval: 64_h1=0.4311, 64_l2=0.3059\n",
      "[26] time=0.75, avg_loss=0.3799, train_err=37.9897\n",
      "Eval: 64_h1=0.4181, 64_l2=0.2789\n",
      "[27] time=0.74, avg_loss=0.3739, train_err=37.3909\n",
      "Eval: 64_h1=0.4267, 64_l2=0.2892\n",
      "[28] time=0.76, avg_loss=0.3742, train_err=37.4163\n",
      "Eval: 64_h1=0.4216, 64_l2=0.2862\n",
      "[29] time=0.76, avg_loss=0.3698, train_err=36.9771\n",
      "Eval: 64_h1=0.4152, 64_l2=0.2772\n",
      "[30] time=0.76, avg_loss=0.3626, train_err=36.2644\n",
      "Eval: 64_h1=0.4248, 64_l2=0.2856\n",
      "[31] time=0.75, avg_loss=0.3638, train_err=36.3770\n",
      "Eval: 64_h1=0.4239, 64_l2=0.2887\n",
      "[32] time=0.75, avg_loss=0.3573, train_err=35.7337\n",
      "Eval: 64_h1=0.4219, 64_l2=0.2833\n",
      "[33] time=0.76, avg_loss=0.3536, train_err=35.3627\n",
      "Eval: 64_h1=0.4135, 64_l2=0.2706\n",
      "[34] time=0.73, avg_loss=0.3469, train_err=34.6939\n",
      "Eval: 64_h1=0.4180, 64_l2=0.2793\n",
      "[35] time=0.76, avg_loss=0.3426, train_err=34.2559\n",
      "Eval: 64_h1=0.4104, 64_l2=0.2646\n",
      "[36] time=0.76, avg_loss=0.3380, train_err=33.7981\n",
      "Eval: 64_h1=0.4122, 64_l2=0.2685\n",
      "[37] time=0.76, avg_loss=0.3326, train_err=33.2603\n",
      "Eval: 64_h1=0.4128, 64_l2=0.2700\n",
      "[38] time=0.76, avg_loss=0.3306, train_err=33.0635\n",
      "Eval: 64_h1=0.4105, 64_l2=0.2622\n",
      "[39] time=0.75, avg_loss=0.3282, train_err=32.8213\n",
      "Eval: 64_h1=0.4137, 64_l2=0.2717\n",
      "[40] time=0.76, avg_loss=0.3250, train_err=32.5040\n",
      "Eval: 64_h1=0.4136, 64_l2=0.2702\n",
      "[41] time=0.76, avg_loss=0.3274, train_err=32.7393\n",
      "Eval: 64_h1=0.4210, 64_l2=0.2792\n",
      "[42] time=0.73, avg_loss=0.3397, train_err=33.9748\n",
      "Eval: 64_h1=0.4235, 64_l2=0.2802\n",
      "[43] time=0.76, avg_loss=0.3742, train_err=37.4164\n",
      "Eval: 64_h1=0.5026, 64_l2=0.4076\n",
      "[44] time=0.75, avg_loss=0.3696, train_err=36.9645\n",
      "Eval: 64_h1=0.4234, 64_l2=0.2818\n",
      "[45] time=0.74, avg_loss=0.3243, train_err=32.4337\n",
      "Eval: 64_h1=0.4415, 64_l2=0.3155\n",
      "[46] time=0.76, avg_loss=0.3313, train_err=33.1267\n",
      "Eval: 64_h1=0.4140, 64_l2=0.2648\n",
      "[47] time=0.75, avg_loss=0.3152, train_err=31.5190\n",
      "Eval: 64_h1=0.4102, 64_l2=0.2605\n",
      "[48] time=0.75, avg_loss=0.3052, train_err=30.5156\n",
      "Eval: 64_h1=0.4165, 64_l2=0.2698\n",
      "[49] time=0.75, avg_loss=0.3049, train_err=30.4852\n",
      "Eval: 64_h1=0.4200, 64_l2=0.2761\n",
      "[50] time=0.76, avg_loss=0.3025, train_err=30.2454\n",
      "Eval: 64_h1=0.4145, 64_l2=0.2678\n",
      "[51] time=0.76, avg_loss=0.2962, train_err=29.6222\n",
      "Eval: 64_h1=0.4129, 64_l2=0.2635\n",
      "[52] time=0.75, avg_loss=0.2918, train_err=29.1812\n",
      "Eval: 64_h1=0.4131, 64_l2=0.2638\n",
      "[53] time=0.76, avg_loss=0.2894, train_err=28.9444\n",
      "Eval: 64_h1=0.4154, 64_l2=0.2682\n",
      "[54] time=0.76, avg_loss=0.2882, train_err=28.8175\n",
      "Eval: 64_h1=0.4175, 64_l2=0.2716\n",
      "[55] time=0.76, avg_loss=0.2869, train_err=28.6854\n",
      "Eval: 64_h1=0.4149, 64_l2=0.2660\n",
      "[56] time=0.76, avg_loss=0.2851, train_err=28.5061\n",
      "Eval: 64_h1=0.4105, 64_l2=0.2581\n",
      "[57] time=0.76, avg_loss=0.2829, train_err=28.2864\n",
      "Eval: 64_h1=0.4099, 64_l2=0.2563\n",
      "[58] time=0.75, avg_loss=0.2813, train_err=28.1270\n",
      "Eval: 64_h1=0.4122, 64_l2=0.2580\n",
      "[59] time=0.76, avg_loss=0.2802, train_err=28.0224\n",
      "Eval: 64_h1=0.4169, 64_l2=0.2641\n",
      "[60] time=0.76, avg_loss=0.2796, train_err=27.9612\n",
      "Eval: 64_h1=0.4197, 64_l2=0.2667\n",
      "[61] time=0.75, avg_loss=0.2795, train_err=27.9543\n",
      "Eval: 64_h1=0.4160, 64_l2=0.2614\n",
      "[62] time=0.76, avg_loss=0.2799, train_err=27.9872\n",
      "Eval: 64_h1=0.4101, 64_l2=0.2558\n",
      "[63] time=0.75, avg_loss=0.2802, train_err=28.0153\n",
      "Eval: 64_h1=0.4074, 64_l2=0.2549\n",
      "[64] time=0.76, avg_loss=0.2785, train_err=27.8495\n",
      "Eval: 64_h1=0.4135, 64_l2=0.2622\n",
      "[65] time=0.76, avg_loss=0.2751, train_err=27.5091\n",
      "Eval: 64_h1=0.4211, 64_l2=0.2714\n",
      "[66] time=0.74, avg_loss=0.2720, train_err=27.2021\n",
      "Eval: 64_h1=0.4176, 64_l2=0.2676\n",
      "[67] time=0.75, avg_loss=0.2682, train_err=26.8219\n",
      "Eval: 64_h1=0.4113, 64_l2=0.2590\n",
      "[68] time=0.76, avg_loss=0.2648, train_err=26.4805\n",
      "Eval: 64_h1=0.4102, 64_l2=0.2566\n",
      "[69] time=0.76, avg_loss=0.2630, train_err=26.2987\n",
      "Eval: 64_h1=0.4098, 64_l2=0.2560\n",
      "[70] time=0.76, avg_loss=0.2621, train_err=26.2069\n",
      "Eval: 64_h1=0.4109, 64_l2=0.2574\n",
      "[71] time=0.76, avg_loss=0.2612, train_err=26.1152\n",
      "Eval: 64_h1=0.4117, 64_l2=0.2584\n",
      "[72] time=0.75, avg_loss=0.2601, train_err=26.0131\n",
      "Eval: 64_h1=0.4114, 64_l2=0.2578\n",
      "[73] time=0.75, avg_loss=0.2591, train_err=25.9103\n",
      "Eval: 64_h1=0.4109, 64_l2=0.2567\n",
      "[74] time=0.76, avg_loss=0.2582, train_err=25.8245\n",
      "Eval: 64_h1=0.4106, 64_l2=0.2561\n",
      "[75] time=0.74, avg_loss=0.2575, train_err=25.7527\n",
      "Eval: 64_h1=0.4106, 64_l2=0.2561\n",
      "[76] time=0.76, avg_loss=0.2569, train_err=25.6869\n",
      "Eval: 64_h1=0.4105, 64_l2=0.2557\n",
      "[77] time=0.75, avg_loss=0.2563, train_err=25.6278\n",
      "Eval: 64_h1=0.4101, 64_l2=0.2550\n",
      "[78] time=0.76, avg_loss=0.2558, train_err=25.5783\n",
      "Eval: 64_h1=0.4098, 64_l2=0.2545\n",
      "[79] time=0.76, avg_loss=0.2554, train_err=25.5369\n",
      "Eval: 64_h1=0.4096, 64_l2=0.2541\n",
      "[80] time=0.75, avg_loss=0.2551, train_err=25.5101\n",
      "Eval: 64_h1=0.4094, 64_l2=0.2537\n",
      "[81] time=0.76, avg_loss=0.2550, train_err=25.4981\n",
      "Eval: 64_h1=0.4094, 64_l2=0.2537\n",
      "[82] time=0.76, avg_loss=0.2550, train_err=25.4970\n",
      "Eval: 64_h1=0.4100, 64_l2=0.2541\n",
      "[83] time=0.76, avg_loss=0.2550, train_err=25.4955\n",
      "Eval: 64_h1=0.4114, 64_l2=0.2559\n",
      "[84] time=0.75, avg_loss=0.2547, train_err=25.4714\n",
      "Eval: 64_h1=0.4140, 64_l2=0.2596\n",
      "[85] time=0.75, avg_loss=0.2541, train_err=25.4056\n",
      "Eval: 64_h1=0.4155, 64_l2=0.2619\n",
      "[86] time=0.75, avg_loss=0.2533, train_err=25.3317\n",
      "Eval: 64_h1=0.4135, 64_l2=0.2592\n",
      "[87] time=0.76, avg_loss=0.2524, train_err=25.2402\n",
      "Eval: 64_h1=0.4118, 64_l2=0.2566\n",
      "[88] time=0.76, avg_loss=0.2520, train_err=25.1971\n",
      "Eval: 64_h1=0.4122, 64_l2=0.2571\n",
      "[89] time=0.77, avg_loss=0.2519, train_err=25.1865\n",
      "Eval: 64_h1=0.4123, 64_l2=0.2572\n",
      "[90] time=0.77, avg_loss=0.2517, train_err=25.1661\n",
      "Eval: 64_h1=0.4120, 64_l2=0.2567\n",
      "[91] time=0.76, avg_loss=0.2515, train_err=25.1522\n",
      "Eval: 64_h1=0.4121, 64_l2=0.2568\n",
      "[92] time=0.76, avg_loss=0.2514, train_err=25.1419\n",
      "Eval: 64_h1=0.4119, 64_l2=0.2566\n",
      "[93] time=0.77, avg_loss=0.2513, train_err=25.1334\n",
      "Eval: 64_h1=0.4120, 64_l2=0.2566\n",
      "[94] time=0.76, avg_loss=0.2513, train_err=25.1270\n",
      "Eval: 64_h1=0.4119, 64_l2=0.2566\n",
      "[95] time=0.76, avg_loss=0.2512, train_err=25.1224\n",
      "Eval: 64_h1=0.4119, 64_l2=0.2565\n",
      "[96] time=0.76, avg_loss=0.2512, train_err=25.1191\n",
      "Eval: 64_h1=0.4119, 64_l2=0.2565\n",
      "[97] time=0.77, avg_loss=0.2512, train_err=25.1170\n",
      "Eval: 64_h1=0.4119, 64_l2=0.2564\n",
      "[98] time=0.77, avg_loss=0.2512, train_err=25.1157\n",
      "Eval: 64_h1=0.4119, 64_l2=0.2564\n",
      "[99] time=0.77, avg_loss=0.2512, train_err=25.1152\n",
      "Eval: 64_h1=0.4119, 64_l2=0.2564\n"
     ]
    },
    {
     "data": {
      "text/plain": [
       "{'train_err': 25.11516528638319,\n",
       " 'avg_loss': 0.2511516528638319,\n",
       " 'avg_lasso_loss': None,\n",
       " 'epoch_train_time': 0.7661752049752977,\n",
       " '64_h1': tensor(0.4119, device='cuda:1', dtype=torch.float64),\n",
       " '64_l2': tensor(0.2564, device='cuda:1', dtype=torch.float64)}"
      ]
     },
     "execution_count": 6,
     "metadata": {},
     "output_type": "execute_result"
    }
   ],
   "source": [
    "trainer = Trainer(model=model, \n",
    "                  n_epochs=n_epochs,\n",
    "                  device=device,\n",
    "                  data_processor=data_processor,\n",
    "                  wandb_log=True,\n",
    "                  eval_interval=1,\n",
    "                  use_distributed=False,\n",
    "                  verbose=True)\n",
    "\n",
    "trainer.train(train_loader=train_loader,\n",
    "              test_loaders=test_loaders,\n",
    "              optimizer=optimizer,\n",
    "              scheduler=scheduler, \n",
    "              regularizer=False, \n",
    "              training_loss=train_loss,\n",
    "              eval_losses=eval_losses)"
   ]
  },
  {
   "cell_type": "code",
   "execution_count": 7,
   "id": "2e4f762c",
   "metadata": {},
   "outputs": [
    {
     "name": "stderr",
     "output_type": "stream",
     "text": [
      "\u001b[34m\u001b[1mwandb\u001b[0m: \u001b[32m\u001b[41mERROR\u001b[0m The nbformat package was not found. It is required to save notebook history.\n"
     ]
    },
    {
     "data": {
      "text/html": [],
      "text/plain": [
       "<IPython.core.display.HTML object>"
      ]
     },
     "metadata": {},
     "output_type": "display_data"
    },
    {
     "data": {
      "text/html": [
       "<br>    <style><br>        .wandb-row {<br>            display: flex;<br>            flex-direction: row;<br>            flex-wrap: wrap;<br>            justify-content: flex-start;<br>            width: 100%;<br>        }<br>        .wandb-col {<br>            display: flex;<br>            flex-direction: column;<br>            flex-basis: 100%;<br>            flex: 1;<br>            padding: 10px;<br>        }<br>    </style><br><div class=\"wandb-row\"><div class=\"wandb-col\"><h3>Run history:</h3><br/><table class=\"wandb\"><tr><td>64_h1</td><td>██▇▅▃▂▂▂▂▂▁▁▁▁▁▁▁▁▁▁▁▁▁▁▂▁▁▁▁▁▁▁▁▁▁▁▁▁▁▁</td></tr><tr><td>64_l2</td><td>█▆▄▃▃▂▂▂▂▂▂▂▂▁▁▁▄▂▁▁▁▁▁▁▁▁▁▁▁▁▁▁▁▁▁▁▁▁▁▁</td></tr><tr><td>avg_loss</td><td>█▆▃▃▃▂▂▂▂▂▂▂▂▂▂▂▂▁▁▁▁▁▁▁▁▁▁▁▁▁▁▁▁▁▁▁▁▁▁▁</td></tr><tr><td>lr</td><td>███████▇▇▇▇▇▇▆▆▆▅▅▅▅▅▄▄▄▃▃▃▃▂▂▂▂▂▁▁▁▁▁▁▁</td></tr><tr><td>time</td><td>█▁▁▁▁▁▁▁▁▁▁▂▁▁▁▁▂▁▁▁▁▂▂▁▁▂▁▁▁▁▁▂▂▂▁▂▂▂▂▂</td></tr><tr><td>train_err</td><td>██▄▄▃▃▃▃▃▃▂▂▂▂▂▂▂▂▂▂▂▂▂▂▂▁▁▁▁▁▁▁▁▁▁▁▁▁▁▁</td></tr></table><br/></div><div class=\"wandb-col\"><h3>Run summary:</h3><br/><table class=\"wandb\"><tr><td>64_h1</td><td>0.41186</td></tr><tr><td>64_l2</td><td>0.25644</td></tr><tr><td>avg_loss</td><td>0.25115</td></tr><tr><td>lr</td><td>0</td></tr><tr><td>time</td><td>0.76618</td></tr><tr><td>train_err</td><td>25.11517</td></tr></table><br/></div></div>"
      ],
      "text/plain": [
       "<IPython.core.display.HTML object>"
      ]
     },
     "metadata": {},
     "output_type": "display_data"
    },
    {
     "data": {
      "text/html": [
       " View run <strong style=\"color:#cdcd00\">FNO_Fasttest_1</strong> at: <a href='https://wandb.ai/tjwoals217-Chung-Ang%20University/Samsung_Project_test/runs/2y4mek3j' target=\"_blank\">https://wandb.ai/tjwoals217-Chung-Ang%20University/Samsung_Project_test/runs/2y4mek3j</a><br> View project at: <a href='https://wandb.ai/tjwoals217-Chung-Ang%20University/Samsung_Project_test' target=\"_blank\">https://wandb.ai/tjwoals217-Chung-Ang%20University/Samsung_Project_test</a><br>Synced 5 W&B file(s), 0 media file(s), 0 artifact file(s) and 0 other file(s)"
      ],
      "text/plain": [
       "<IPython.core.display.HTML object>"
      ]
     },
     "metadata": {},
     "output_type": "display_data"
    },
    {
     "data": {
      "text/html": [
       "Find logs at: <code>./wandb/run-20250926_185908-2y4mek3j/logs</code>"
      ],
      "text/plain": [
       "<IPython.core.display.HTML object>"
      ]
     },
     "metadata": {},
     "output_type": "display_data"
    }
   ],
   "source": [
    "wandb.finish()"
   ]
  },
  {
   "cell_type": "code",
   "execution_count": 10,
   "id": "45c4fa14",
   "metadata": {},
   "outputs": [
    {
     "name": "stderr",
     "output_type": "stream",
     "text": [
      "/home/jaeminseo/anaconda3/envs/PINN2/lib/python3.11/site-packages/tltorch/factorized_tensors/factorized_tensors.py:66: UserWarning: Using a non-tuple sequence for multidimensional indexing is deprecated and will be changed in pytorch 2.9; use x[tuple(seq)] instead of x[seq]. In pytorch 2.9 this will be interpreted as tensor index, x[torch.tensor(seq)], which will result either in an error or a different result (Triggered internally at /pytorch/torch/csrc/autograd/python_variable_indexing.cpp:306.)\n",
      "  return self.__class__(self.tensor[indices])\n",
      "/home/jaeminseo/Documents/neuraloperator-main/neuralop/layers/spectral_convolution.py:486: UserWarning: Using a non-tuple sequence for multidimensional indexing is deprecated and will be changed in pytorch 2.9; use x[tuple(seq)] instead of x[seq]. In pytorch 2.9 this will be interpreted as tensor index, x[torch.tensor(seq)], which will result either in an error or a different result (Triggered internally at /pytorch/torch/csrc/autograd/python_variable_indexing.cpp:306.)\n",
      "  out_fft[slices_x] = self._contract(x[slices_x], weight, separable=self.separable)\n",
      "/home/jaeminseo/anaconda3/envs/PINN2/lib/python3.11/site-packages/tltorch/factorized_tensors/factorized_tensors.py:66: UserWarning: Using a non-tuple sequence for multidimensional indexing is deprecated and will be changed in pytorch 2.9; use x[tuple(seq)] instead of x[seq]. In pytorch 2.9 this will be interpreted as tensor index, x[torch.tensor(seq)], which will result either in an error or a different result (Triggered internally at /pytorch/torch/csrc/autograd/python_variable_indexing.cpp:306.)\n",
      "  return self.__class__(self.tensor[indices])\n",
      "/home/jaeminseo/Documents/neuraloperator-main/neuralop/layers/spectral_convolution.py:486: UserWarning: Using a non-tuple sequence for multidimensional indexing is deprecated and will be changed in pytorch 2.9; use x[tuple(seq)] instead of x[seq]. In pytorch 2.9 this will be interpreted as tensor index, x[torch.tensor(seq)], which will result either in an error or a different result (Triggered internally at /pytorch/torch/csrc/autograd/python_variable_indexing.cpp:306.)\n",
      "  out_fft[slices_x] = self._contract(x[slices_x], weight, separable=self.separable)\n"
     ]
    },
    {
     "name": "stdout",
     "output_type": "stream",
     "text": [
      "L2 error (0) : 0.4989176738126829\n",
      "L2 error (1) : 0.12027692939329629\n",
      "L2 error (2) : 0.073400267469427\n"
     ]
    },
    {
     "name": "stderr",
     "output_type": "stream",
     "text": [
      "/home/jaeminseo/anaconda3/envs/PINN2/lib/python3.11/site-packages/tltorch/factorized_tensors/factorized_tensors.py:66: UserWarning: Using a non-tuple sequence for multidimensional indexing is deprecated and will be changed in pytorch 2.9; use x[tuple(seq)] instead of x[seq]. In pytorch 2.9 this will be interpreted as tensor index, x[torch.tensor(seq)], which will result either in an error or a different result (Triggered internally at /pytorch/torch/csrc/autograd/python_variable_indexing.cpp:306.)\n",
      "  return self.__class__(self.tensor[indices])\n",
      "/home/jaeminseo/Documents/neuraloperator-main/neuralop/layers/spectral_convolution.py:486: UserWarning: Using a non-tuple sequence for multidimensional indexing is deprecated and will be changed in pytorch 2.9; use x[tuple(seq)] instead of x[seq]. In pytorch 2.9 this will be interpreted as tensor index, x[torch.tensor(seq)], which will result either in an error or a different result (Triggered internally at /pytorch/torch/csrc/autograd/python_variable_indexing.cpp:306.)\n",
      "  out_fft[slices_x] = self._contract(x[slices_x], weight, separable=self.separable)\n"
     ]
    },
    {
     "data": {
      "image/png": "[encoded data removed]",
      "text/plain": [
       "<Figure size 1000x1000 with 15 Axes>"
      ]
     },
     "metadata": {},
     "output_type": "display_data"
    }
   ],
   "source": [
    "test_samples = test_loaders[64].dataset\n",
    "\n",
    "# # Step 1: Compute global min and max for consistent color scaling\n",
    "# vmin, vmax = float('inf'), float('-inf')\n",
    "# for index in range(3):\n",
    "#     data = test_samples[index]\n",
    "#     data = data_processor.preprocess(data, batched=False)\n",
    "\n",
    "#     x = data['x']\n",
    "#     y = data['y']\n",
    "#     out = model(x.unsqueeze(0))\n",
    "\n",
    "#     y = data_processor.out_normalizer.inverse_transform(y).squeeze().detach()\n",
    "#     out = data_processor.out_normalizer.inverse_transform(out).squeeze().detach()\n",
    "\n",
    "#     vmin = min(vmin, y.min().item(), out.min().item())\n",
    "#     vmax = max(vmax, y.max().item(), out.max().item())\n",
    "\n",
    "# Step 2: Plot with consistent vmin/vmax and add colorbars\n",
    "fig = plt.figure(figsize=(10, 10))\n",
    "\n",
    "for index in range(3):\n",
    "    data = test_samples[index]\n",
    "    data = data_processor.preprocess(data, batched=False)\n",
    "\n",
    "    x = data['x'].to(device)\n",
    "    y = data['y'].to(device)\n",
    "    out = model(x.unsqueeze(0)).squeeze().detach()\n",
    "\n",
    "    # y = data_processor.out_normalizer.inverse_transform(y)\n",
    "    out = data_processor.out_normalizer.inverse_transform(out)\n",
    "\n",
    "    # Input x\n",
    "    ax = fig.add_subplot(3, 3, index * 3 + 1)\n",
    "    im = ax.imshow(x[0].cpu(), cmap='gray')\n",
    "    if index == 0: \n",
    "        ax.set_title('Input x')\n",
    "    plt.xticks([], [])\n",
    "    plt.yticks([], [])\n",
    "    \n",
    "    # Ground-truth y\n",
    "    ax = fig.add_subplot(3, 3, index * 3 + 2)\n",
    "    im = ax.imshow(y.squeeze().cpu())\n",
    "    if index == 0: \n",
    "        ax.set_title('Ground-truth y')\n",
    "    plt.xticks([], [])\n",
    "    plt.yticks([], [])\n",
    "    fig.colorbar(im, ax=ax, fraction=0.046, pad=0.04)\n",
    "\n",
    "    # Model prediction\n",
    "    ax = fig.add_subplot(3, 3, index * 3 + 3)\n",
    "    im = ax.imshow(out.squeeze().cpu())\n",
    "    if index == 0: \n",
    "        ax.set_title('Model prediction')\n",
    "    plt.xticks([], [])\n",
    "    plt.yticks([], [])\n",
    "    fig.colorbar(im, ax=ax, fraction=0.046, pad=0.04)\n",
    "\n",
    "    print(f'L2 error ({index}) : {torch.norm(out - y) / torch.norm(y)}')\n",
    "\n",
    "fig.suptitle('Inputs, ground-truth output and prediction.', y=0.98)\n",
    "plt.tight_layout()\n",
    "plt.show()"
   ]
  },
  {
   "cell_type": "code",
   "execution_count": null,
   "id": "01f5e684",
   "metadata": {},
   "outputs": [],
   "source": []
  }
 ],
 "metadata": {
  "kernelspec": {
   "display_name": "PINN2",
   "language": "python",
   "name": "python3"
  },
  "language_info": {
   "codemirror_mode": {
    "name": "ipython",
    "version": 3
   },
   "file_extension": ".py",
   "mimetype": "text/x-python",
   "name": "python",
   "nbconvert_exporter": "python",
   "pygments_lexer": "ipython3",
   "version": "3.11.13"
  }
 },
 "nbformat": 4,
 "nbformat_minor": 5
}
