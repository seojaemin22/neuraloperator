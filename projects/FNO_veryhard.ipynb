{
 "cells": [
  {
   "cell_type": "code",
   "execution_count": 1,
   "id": "c4d958c6",
   "metadata": {},
   "outputs": [],
   "source": [
    "import sys\n",
    "import os\n",
    "\n",
    "sys.path.append(os.path.abspath(\"..\"))\n",
    "\n",
    "import torch\n",
    "from neuralop.data.datasets.custom_darcy import CustomDarcyDataset, load_darcy_flow\n",
    "import matplotlib.pyplot as plt\n",
    "from neuralop.models import FNO\n",
    "from neuralop import Trainer\n",
    "from neuralop.training import AdamW\n",
    "from neuralop.utils import count_model_params\n",
    "from neuralop import LpLoss, H1Loss"
   ]
  },
  {
   "cell_type": "code",
   "execution_count": 2,
   "id": "ef9667c9",
   "metadata": {},
   "outputs": [
    {
     "name": "stdout",
     "output_type": "stream",
     "text": [
      "'darcy_ARD3_3_2_train_64.pt' not existed.\n"
     ]
    },
    {
     "name": "stderr",
     "output_type": "stream",
     "text": [
      "Generating data/darcy_ARD3_3_2_train_64.pt:   0%|          | 0/1000 [00:00<?, ?it/s]"
     ]
    },
    {
     "name": "stderr",
     "output_type": "stream",
     "text": [
      "Generating data/darcy_ARD3_3_2_train_64.pt: 100%|██████████| 1000/1000 [00:24<00:00, 40.57it/s]\n"
     ]
    },
    {
     "name": "stdout",
     "output_type": "stream",
     "text": [
      "data/darcy_ARD3_3_2_train_64.pt saved\n",
      "'darcy_ARD3_3_2_test_64.pt' not existed.\n"
     ]
    },
    {
     "name": "stderr",
     "output_type": "stream",
     "text": [
      "Generating data/darcy_ARD3_3_2_test_64.pt: 100%|██████████| 50/50 [00:01<00:00, 41.22it/s]\n"
     ]
    },
    {
     "name": "stdout",
     "output_type": "stream",
     "text": [
      "data/darcy_ARD3_3_2_test_64.pt saved\n",
      "Loading test db for resolution 64 with 50 samples \n"
     ]
    },
    {
     "name": "stderr",
     "output_type": "stream",
     "text": [
      "/home/jaeminseo/Documents/neuraloperator-main4/neuralop/data/datasets/pt_dataset.py:127: UserWarning: Using a non-tuple sequence for multidimensional indexing is deprecated and will be changed in pytorch 2.9; use x[tuple(seq)] instead of x[seq]. In pytorch 2.9 this will be interpreted as tensor index, x[torch.tensor(seq)], which will result either in an error or a different result (Triggered internally at /pytorch/torch/csrc/autograd/python_variable_indexing.cpp:306.)\n",
      "  x_train = x_train[train_input_indices]\n",
      "/home/jaeminseo/Documents/neuraloperator-main4/neuralop/data/datasets/pt_dataset.py:150: UserWarning: Using a non-tuple sequence for multidimensional indexing is deprecated and will be changed in pytorch 2.9; use x[tuple(seq)] instead of x[seq]. In pytorch 2.9 this will be interpreted as tensor index, x[torch.tensor(seq)], which will result either in an error or a different result (Triggered internally at /pytorch/torch/csrc/autograd/python_variable_indexing.cpp:306.)\n",
      "  y_train = y_train[train_output_indices]\n",
      "/home/jaeminseo/Documents/neuraloperator-main4/neuralop/data/datasets/pt_dataset.py:210: UserWarning: Using a non-tuple sequence for multidimensional indexing is deprecated and will be changed in pytorch 2.9; use x[tuple(seq)] instead of x[seq]. In pytorch 2.9 this will be interpreted as tensor index, x[torch.tensor(seq)], which will result either in an error or a different result (Triggered internally at /pytorch/torch/csrc/autograd/python_variable_indexing.cpp:306.)\n",
      "  x_test = x_test[test_input_indices]\n",
      "/home/jaeminseo/Documents/neuraloperator-main4/neuralop/data/datasets/pt_dataset.py:217: UserWarning: Using a non-tuple sequence for multidimensional indexing is deprecated and will be changed in pytorch 2.9; use x[tuple(seq)] instead of x[seq]. In pytorch 2.9 this will be interpreted as tensor index, x[torch.tensor(seq)], which will result either in an error or a different result (Triggered internally at /pytorch/torch/csrc/autograd/python_variable_indexing.cpp:306.)\n",
      "  y_test = y_test[test_output_indices]\n"
     ]
    }
   ],
   "source": [
    "# resolution = 64\n",
    "\n",
    "# train_loader, test_loaders, data_processor = load_darcy_flow(\n",
    "#     root_dir=\"./data/\",\n",
    "#     dataset_name='darcy_ZD_PWC',\n",
    "#     n_train=1000,\n",
    "#     n_tests=[50],\n",
    "#     batch_size=20,\n",
    "#     test_batch_sizes=[50],\n",
    "#     train_resolution=resolution,\n",
    "#     test_resolutions=[resolution]\n",
    "# )\n",
    "\n",
    "# resolution = 64\n",
    "# tau = 10\n",
    "# alpha = 2\n",
    "\n",
    "# train_loader, test_loaders, data_processor = load_darcy_flow(\n",
    "#     root_dir=\"./data/\",\n",
    "#     dataset_name='darcy',\n",
    "#     n_train=1000,\n",
    "#     n_tests=[50],\n",
    "#     batch_size=100,\n",
    "#     test_batch_sizes=[50],\n",
    "#     train_resolution=resolution,\n",
    "#     test_resolutions=[resolution],\n",
    "#     train_data_setting={'tau': tau, 'alpha': alpha, 'boundary': 'ZD'},\n",
    "#     test_data_settings=[{'tau': tau, 'alpha': alpha, 'boundary': 'ZD'}],\n",
    "# )\n",
    "\n",
    "resolution = 64\n",
    "tau = 3\n",
    "alpha = 2\n",
    "\n",
    "train_loader, test_loaders, data_processor = load_darcy_flow(\n",
    "    root_dir=\"./data/\",\n",
    "    dataset_name='darcy',\n",
    "    n_train=1000,\n",
    "    n_tests=[50],\n",
    "    batch_size=100,\n",
    "    test_batch_sizes=[50],\n",
    "    train_resolution=resolution,\n",
    "    test_resolutions=[resolution],\n",
    "    train_data_setting={'tau': tau, 'alpha': alpha, 'boundary': 'ARD3'},\n",
    "    test_data_settings=[{'tau': tau, 'alpha': alpha, 'boundary': 'ARD3'}],\n",
    "    channels_squeezed=False\n",
    ")\n",
    "\n",
    "#     train_data_setting={'tau': tau, 'alpha': alpha, 'boundary': 'ARD1'},\n",
    "#     test_data_settings=[{'tau': tau, 'alpha': alpha, 'boundary': 'ARD1'}],\n",
    "#     channels_squeezed=True\n",
    "# )   "
   ]
  },
  {
   "cell_type": "code",
   "execution_count": 3,
   "id": "4ed88ca8",
   "metadata": {},
   "outputs": [
    {
     "name": "stdout",
     "output_type": "stream",
     "text": [
      "\n",
      "Our model has 4769729 parameters.\n"
     ]
    }
   ],
   "source": [
    "device = torch.device(\"cuda:0\" if torch.cuda.is_available() else \"cpu\")\n",
    "\n",
    "model = FNO(\n",
    "    n_modes=(16, 16),\n",
    "    hidden_channels=64,\n",
    "    in_channels=3, # 1\n",
    "    out_channels=1\n",
    ")\n",
    "model = model.to(device)\n",
    "\n",
    "n_params = count_model_params(model)\n",
    "print(f'\\nOur model has {n_params} parameters.')\n",
    "sys.stdout.flush()"
   ]
  },
  {
   "cell_type": "code",
   "execution_count": 4,
   "id": "8ca4a4ac",
   "metadata": {},
   "outputs": [],
   "source": [
    "n_epochs = 200\n",
    "optimizer = AdamW(model.parameters(), lr=1e-3, weight_decay=1e-4)\n",
    "scheduler = torch.optim.lr_scheduler.CosineAnnealingLR(optimizer, T_max=n_epochs)\n",
    "\n",
    "l2loss = LpLoss(d=2, p=2)\n",
    "h1loss = H1Loss(d=2)\n",
    "\n",
    "train_loss = h1loss\n",
    "eval_losses={'h1': h1loss, 'l2': l2loss}"
   ]
  },
  {
   "cell_type": "code",
   "execution_count": 5,
   "id": "5b08ec02",
   "metadata": {},
   "outputs": [
    {
     "name": "stderr",
     "output_type": "stream",
     "text": [
      "\u001b[34m\u001b[1mwandb\u001b[0m: Currently logged in as: \u001b[33mtjwoals217\u001b[0m (\u001b[33mtjwoals217-Chung-Ang University\u001b[0m) to \u001b[32mhttps://api.wandb.ai\u001b[0m. Use \u001b[1m`wandb login --relogin`\u001b[0m to force relogin\n"
     ]
    },
    {
     "data": {
      "text/html": [
       "Changes to your `wandb` environment variables will be ignored because your `wandb` session has already started. For more information on how to modify your settings with `wandb.init()` arguments, please refer to <a href='https://wandb.me/wandb-init' target=\"_blank\">the W&B docs</a>."
      ],
      "text/plain": [
       "<IPython.core.display.HTML object>"
      ]
     },
     "metadata": {},
     "output_type": "display_data"
    },
    {
     "data": {
      "text/html": [
       "creating run (0.6s)"
      ],
      "text/plain": [
       "<IPython.core.display.HTML object>"
      ]
     },
     "metadata": {},
     "output_type": "display_data"
    },
    {
     "data": {
      "text/html": [
       "Tracking run with wandb version 0.21.2"
      ],
      "text/plain": [
       "<IPython.core.display.HTML object>"
      ]
     },
     "metadata": {},
     "output_type": "display_data"
    },
    {
     "data": {
      "text/html": [
       "Run data is saved locally in <code>/home/jaeminseo/Documents/neuraloperator-main4/projects/wandb/run-20250910_003526-cd9adesp</code>"
      ],
      "text/plain": [
       "<IPython.core.display.HTML object>"
      ]
     },
     "metadata": {},
     "output_type": "display_data"
    },
    {
     "data": {
      "text/html": [
       "Syncing run <strong><a href='https://wandb.ai/tjwoals217-Chung-Ang%20University/Samsung_Project/runs/cd9adesp' target=\"_blank\">FNO_20250910_003525</a></strong> to <a href='https://wandb.ai/tjwoals217-Chung-Ang%20University/Samsung_Project' target=\"_blank\">Weights & Biases</a> (<a href='https://wandb.me/developer-guide' target=\"_blank\">docs</a>)<br>"
      ],
      "text/plain": [
       "<IPython.core.display.HTML object>"
      ]
     },
     "metadata": {},
     "output_type": "display_data"
    },
    {
     "data": {
      "text/html": [
       " View project at <a href='https://wandb.ai/tjwoals217-Chung-Ang%20University/Samsung_Project' target=\"_blank\">https://wandb.ai/tjwoals217-Chung-Ang%20University/Samsung_Project</a>"
      ],
      "text/plain": [
       "<IPython.core.display.HTML object>"
      ]
     },
     "metadata": {},
     "output_type": "display_data"
    },
    {
     "data": {
      "text/html": [
       " View run at <a href='https://wandb.ai/tjwoals217-Chung-Ang%20University/Samsung_Project/runs/cd9adesp' target=\"_blank\">https://wandb.ai/tjwoals217-Chung-Ang%20University/Samsung_Project/runs/cd9adesp</a>"
      ],
      "text/plain": [
       "<IPython.core.display.HTML object>"
      ]
     },
     "metadata": {},
     "output_type": "display_data"
    },
    {
     "data": {
      "text/html": [
       "<button onClick=\"this.nextSibling.style.display='block';this.style.display='none';\">Display W&B run</button><iframe src='https://wandb.ai/tjwoals217-Chung-Ang%20University/Samsung_Project/runs/cd9adesp?jupyter=true' style='border:none;width:100%;height:420px;display:none;'></iframe>"
      ],
      "text/plain": [
       "<wandb.sdk.wandb_run.Run at 0x7f98f6b24450>"
      ]
     },
     "execution_count": 5,
     "metadata": {},
     "output_type": "execute_result"
    }
   ],
   "source": [
    "import wandb\n",
    "from datetime import datetime\n",
    "\n",
    "wandb.init(\n",
    "    project='Samsung_Project',\n",
    "    name=f'FNO_{datetime.now().strftime(\"%Y%m%d_%H%M%S\")}'\n",
    ")"
   ]
  },
  {
   "cell_type": "code",
   "execution_count": 6,
   "id": "00c69b09",
   "metadata": {},
   "outputs": [
    {
     "name": "stdout",
     "output_type": "stream",
     "text": [
      "Training on 1000 samples\n",
      "Testing on [50] samples         on resolutions [64].\n"
     ]
    },
    {
     "name": "stderr",
     "output_type": "stream",
     "text": [
      "/home/jaeminseo/anaconda3/envs/PINN2/lib/python3.11/site-packages/tltorch/factorized_tensors/factorized_tensors.py:66: UserWarning: Using a non-tuple sequence for multidimensional indexing is deprecated and will be changed in pytorch 2.9; use x[tuple(seq)] instead of x[seq]. In pytorch 2.9 this will be interpreted as tensor index, x[torch.tensor(seq)], which will result either in an error or a different result (Triggered internally at /pytorch/torch/csrc/autograd/python_variable_indexing.cpp:306.)\n",
      "  return self.__class__(self.tensor[indices])\n",
      "/home/jaeminseo/Documents/neuraloperator-main4/neuralop/layers/spectral_convolution.py:486: UserWarning: Using a non-tuple sequence for multidimensional indexing is deprecated and will be changed in pytorch 2.9; use x[tuple(seq)] instead of x[seq]. In pytorch 2.9 this will be interpreted as tensor index, x[torch.tensor(seq)], which will result either in an error or a different result (Triggered internally at /pytorch/torch/csrc/autograd/python_variable_indexing.cpp:306.)\n",
      "  out_fft[slices_x] = self._contract(x[slices_x], weight, separable=self.separable)\n"
     ]
    },
    {
     "name": "stdout",
     "output_type": "stream",
     "text": [
      "Raw outputs of shape torch.Size([100, 1, 64, 64])\n",
      "[0] time=1.16, avg_loss=1.0006, train_err=100.0568\n",
      "Eval: 64_h1=0.9885, 64_l2=0.6053\n",
      "[1] time=0.76, avg_loss=0.9847, train_err=98.4668\n",
      "Eval: 64_h1=0.9563, 64_l2=0.5832\n",
      "[2] time=0.78, avg_loss=0.9258, train_err=92.5844\n",
      "Eval: 64_h1=0.8809, 64_l2=0.5636\n",
      "[3] time=0.75, avg_loss=0.8188, train_err=81.8759\n",
      "Eval: 64_h1=0.7518, 64_l2=0.3635\n",
      "[4] time=0.76, avg_loss=0.7337, train_err=73.3663\n",
      "Eval: 64_h1=0.7083, 64_l2=0.3504\n",
      "[5] time=0.78, avg_loss=0.7079, train_err=70.7929\n",
      "Eval: 64_h1=0.6951, 64_l2=0.2960\n",
      "[6] time=0.76, avg_loss=0.6954, train_err=69.5449\n",
      "Eval: 64_h1=0.6865, 64_l2=0.2699\n",
      "[7] time=0.77, avg_loss=0.6854, train_err=68.5425\n",
      "Eval: 64_h1=0.6755, 64_l2=0.2650\n",
      "[8] time=0.76, avg_loss=0.6772, train_err=67.7155\n",
      "Eval: 64_h1=0.6685, 64_l2=0.2684\n",
      "[9] time=0.77, avg_loss=0.6704, train_err=67.0446\n",
      "Eval: 64_h1=0.6626, 64_l2=0.2695\n",
      "[10] time=0.75, avg_loss=0.6652, train_err=66.5173\n",
      "Eval: 64_h1=0.6599, 64_l2=0.2619\n",
      "[11] time=0.77, avg_loss=0.6615, train_err=66.1510\n",
      "Eval: 64_h1=0.6587, 64_l2=0.2567\n",
      "[12] time=0.78, avg_loss=0.6589, train_err=65.8856\n",
      "Eval: 64_h1=0.6578, 64_l2=0.2566\n",
      "[13] time=0.75, avg_loss=0.6566, train_err=65.6579\n",
      "Eval: 64_h1=0.6572, 64_l2=0.2561\n",
      "[14] time=0.77, avg_loss=0.6545, train_err=65.4452\n",
      "Eval: 64_h1=0.6564, 64_l2=0.2545\n",
      "[15] time=0.77, avg_loss=0.6519, train_err=65.1934\n",
      "Eval: 64_h1=0.6556, 64_l2=0.2524\n",
      "[16] time=0.76, avg_loss=0.6486, train_err=64.8603\n",
      "Eval: 64_h1=0.6566, 64_l2=0.2517\n",
      "[17] time=0.77, avg_loss=0.6451, train_err=64.5131\n",
      "Eval: 64_h1=0.6586, 64_l2=0.2520\n",
      "[18] time=0.76, avg_loss=0.6415, train_err=64.1502\n",
      "Eval: 64_h1=0.6615, 64_l2=0.2532\n",
      "[19] time=0.73, avg_loss=0.6374, train_err=63.7427\n",
      "Eval: 64_h1=0.6651, 64_l2=0.2549\n",
      "[20] time=0.76, avg_loss=0.6324, train_err=63.2448\n",
      "Eval: 64_h1=0.6690, 64_l2=0.2563\n",
      "[21] time=0.77, avg_loss=0.6262, train_err=62.6200\n",
      "Eval: 64_h1=0.6728, 64_l2=0.2594\n",
      "[22] time=0.77, avg_loss=0.6181, train_err=61.8056\n",
      "Eval: 64_h1=0.6778, 64_l2=0.2636\n",
      "[23] time=0.76, avg_loss=0.6118, train_err=61.1848\n",
      "Eval: 64_h1=0.6804, 64_l2=0.2622\n",
      "[24] time=0.77, avg_loss=0.6048, train_err=60.4784\n",
      "Eval: 64_h1=0.7066, 64_l2=0.2645\n",
      "[25] time=0.77, avg_loss=0.5931, train_err=59.3122\n",
      "Eval: 64_h1=0.6908, 64_l2=0.2618\n",
      "[26] time=0.77, avg_loss=0.5830, train_err=58.2955\n",
      "Eval: 64_h1=0.6955, 64_l2=0.2592\n",
      "[27] time=0.77, avg_loss=0.5756, train_err=57.5618\n",
      "Eval: 64_h1=0.7089, 64_l2=0.2673\n",
      "[28] time=0.75, avg_loss=0.5748, train_err=57.4755\n",
      "Eval: 64_h1=0.7252, 64_l2=0.2712\n",
      "[29] time=0.76, avg_loss=0.5790, train_err=57.8976\n",
      "Eval: 64_h1=0.7156, 64_l2=0.2669\n",
      "[30] time=0.76, avg_loss=0.5434, train_err=54.3401\n",
      "Eval: 64_h1=0.7564, 64_l2=0.2727\n",
      "[31] time=0.75, avg_loss=0.5342, train_err=53.4168\n",
      "Eval: 64_h1=0.7246, 64_l2=0.2632\n",
      "[32] time=0.77, avg_loss=0.5345, train_err=53.4487\n",
      "Eval: 64_h1=0.7052, 64_l2=0.2640\n",
      "[33] time=0.75, avg_loss=0.5277, train_err=52.7707\n",
      "Eval: 64_h1=0.7428, 64_l2=0.2735\n",
      "[34] time=0.76, avg_loss=0.5113, train_err=51.1287\n",
      "Eval: 64_h1=0.7441, 64_l2=0.2671\n",
      "[35] time=0.77, avg_loss=0.5034, train_err=50.3406\n",
      "Eval: 64_h1=0.7182, 64_l2=0.2616\n",
      "[36] time=0.77, avg_loss=0.4869, train_err=48.6888\n",
      "Eval: 64_h1=0.7226, 64_l2=0.2625\n",
      "[37] time=0.76, avg_loss=0.4779, train_err=47.7900\n",
      "Eval: 64_h1=0.7303, 64_l2=0.2629\n",
      "[38] time=0.72, avg_loss=0.4774, train_err=47.7448\n",
      "Eval: 64_h1=0.7129, 64_l2=0.2639\n",
      "[39] time=0.76, avg_loss=0.4463, train_err=44.6304\n",
      "Eval: 64_h1=0.7191, 64_l2=0.2645\n",
      "[40] time=0.76, avg_loss=0.4338, train_err=43.3830\n",
      "Eval: 64_h1=0.7324, 64_l2=0.2648\n",
      "[41] time=0.77, avg_loss=0.4334, train_err=43.3357\n",
      "Eval: 64_h1=0.7451, 64_l2=0.2667\n",
      "[42] time=0.77, avg_loss=0.4381, train_err=43.8097\n",
      "Eval: 64_h1=0.7838, 64_l2=0.2716\n",
      "[43] time=0.76, avg_loss=0.4466, train_err=44.6583\n",
      "Eval: 64_h1=0.7384, 64_l2=0.2673\n",
      "[44] time=0.77, avg_loss=0.4309, train_err=43.0932\n",
      "Eval: 64_h1=0.7312, 64_l2=0.2712\n",
      "[45] time=0.75, avg_loss=0.4205, train_err=42.0536\n",
      "Eval: 64_h1=0.7852, 64_l2=0.2739\n",
      "[46] time=0.74, avg_loss=0.4461, train_err=44.6092\n",
      "Eval: 64_h1=0.8079, 64_l2=0.2807\n",
      "[47] time=0.74, avg_loss=0.4978, train_err=49.7757\n",
      "Eval: 64_h1=0.7013, 64_l2=0.2776\n",
      "[48] time=0.77, avg_loss=0.4789, train_err=47.8866\n",
      "Eval: 64_h1=0.7521, 64_l2=0.2743\n",
      "[49] time=0.77, avg_loss=0.4606, train_err=46.0641\n",
      "Eval: 64_h1=0.7304, 64_l2=0.2716\n",
      "[50] time=0.76, avg_loss=0.4379, train_err=43.7887\n",
      "Eval: 64_h1=0.7164, 64_l2=0.2732\n",
      "[51] time=0.75, avg_loss=0.4069, train_err=40.6939\n",
      "Eval: 64_h1=0.7270, 64_l2=0.2712\n",
      "[52] time=0.74, avg_loss=0.3843, train_err=38.4301\n",
      "Eval: 64_h1=0.7325, 64_l2=0.2697\n",
      "[53] time=0.76, avg_loss=0.3735, train_err=37.3528\n",
      "Eval: 64_h1=0.7464, 64_l2=0.2731\n",
      "[54] time=0.77, avg_loss=0.3855, train_err=38.5537\n",
      "Eval: 64_h1=0.7779, 64_l2=0.2755\n",
      "[55] time=0.77, avg_loss=0.3982, train_err=39.8151\n",
      "Eval: 64_h1=0.7464, 64_l2=0.2720\n",
      "[56] time=0.76, avg_loss=0.3961, train_err=39.6119\n",
      "Eval: 64_h1=0.7644, 64_l2=0.2878\n",
      "[57] time=0.75, avg_loss=0.4020, train_err=40.1960\n",
      "Eval: 64_h1=0.7153, 64_l2=0.2651\n",
      "[58] time=0.77, avg_loss=0.4211, train_err=42.1068\n",
      "Eval: 64_h1=0.7289, 64_l2=0.2695\n",
      "[59] time=0.77, avg_loss=0.4066, train_err=40.6646\n",
      "Eval: 64_h1=0.7259, 64_l2=0.2691\n",
      "[60] time=0.77, avg_loss=0.3439, train_err=34.3912\n",
      "Eval: 64_h1=0.7236, 64_l2=0.2678\n",
      "[61] time=0.75, avg_loss=0.3154, train_err=31.5399\n",
      "Eval: 64_h1=0.7298, 64_l2=0.2688\n",
      "[62] time=0.78, avg_loss=0.3004, train_err=30.0426\n",
      "Eval: 64_h1=0.7266, 64_l2=0.2670\n",
      "[63] time=0.77, avg_loss=0.2923, train_err=29.2297\n",
      "Eval: 64_h1=0.7245, 64_l2=0.2661\n",
      "[64] time=0.76, avg_loss=0.2867, train_err=28.6654\n",
      "Eval: 64_h1=0.7303, 64_l2=0.2687\n",
      "[65] time=0.74, avg_loss=0.2840, train_err=28.3962\n",
      "Eval: 64_h1=0.7291, 64_l2=0.2714\n",
      "[66] time=0.77, avg_loss=0.2900, train_err=28.9952\n",
      "Eval: 64_h1=0.7268, 64_l2=0.2699\n",
      "[67] time=0.76, avg_loss=0.3008, train_err=30.0844\n",
      "Eval: 64_h1=0.7269, 64_l2=0.2686\n",
      "[68] time=0.77, avg_loss=0.3094, train_err=30.9358\n",
      "Eval: 64_h1=0.7110, 64_l2=0.2704\n",
      "[69] time=0.76, avg_loss=0.3163, train_err=31.6311\n",
      "Eval: 64_h1=0.7268, 64_l2=0.2687\n",
      "[70] time=0.75, avg_loss=0.3254, train_err=32.5433\n",
      "Eval: 64_h1=0.7308, 64_l2=0.2724\n",
      "[71] time=0.76, avg_loss=0.3359, train_err=33.5950\n",
      "Eval: 64_h1=0.7630, 64_l2=0.2765\n",
      "[72] time=0.77, avg_loss=0.3373, train_err=33.7349\n",
      "Eval: 64_h1=0.7629, 64_l2=0.2773\n",
      "[73] time=0.77, avg_loss=0.3261, train_err=32.6077\n",
      "Eval: 64_h1=0.7432, 64_l2=0.2799\n",
      "[74] time=0.77, avg_loss=0.3067, train_err=30.6699\n",
      "Eval: 64_h1=0.7325, 64_l2=0.2715\n",
      "[75] time=0.76, avg_loss=0.2933, train_err=29.3302\n",
      "Eval: 64_h1=0.7140, 64_l2=0.2719\n",
      "[76] time=0.77, avg_loss=0.2949, train_err=29.4866\n",
      "Eval: 64_h1=0.7169, 64_l2=0.2727\n",
      "[77] time=0.77, avg_loss=0.2929, train_err=29.2937\n",
      "Eval: 64_h1=0.7238, 64_l2=0.2695\n",
      "[78] time=0.74, avg_loss=0.2879, train_err=28.7895\n",
      "Eval: 64_h1=0.7574, 64_l2=0.2756\n",
      "[79] time=0.74, avg_loss=0.2773, train_err=27.7267\n",
      "Eval: 64_h1=0.7491, 64_l2=0.2750\n",
      "[80] time=0.77, avg_loss=0.2680, train_err=26.8044\n",
      "Eval: 64_h1=0.7281, 64_l2=0.2769\n",
      "[81] time=0.77, avg_loss=0.2640, train_err=26.4000\n",
      "Eval: 64_h1=0.7116, 64_l2=0.2752\n",
      "[82] time=0.76, avg_loss=0.2608, train_err=26.0787\n",
      "Eval: 64_h1=0.7109, 64_l2=0.2731\n",
      "[83] time=0.75, avg_loss=0.2546, train_err=25.4614\n",
      "Eval: 64_h1=0.7256, 64_l2=0.2709\n",
      "[84] time=0.75, avg_loss=0.2451, train_err=24.5079\n",
      "Eval: 64_h1=0.7437, 64_l2=0.2732\n",
      "[85] time=0.76, avg_loss=0.2391, train_err=23.9087\n",
      "Eval: 64_h1=0.7495, 64_l2=0.2746\n",
      "[86] time=0.75, avg_loss=0.2402, train_err=24.0206\n",
      "Eval: 64_h1=0.7315, 64_l2=0.2785\n",
      "[87] time=0.75, avg_loss=0.2462, train_err=24.6158\n",
      "Eval: 64_h1=0.7054, 64_l2=0.2745\n",
      "[88] time=0.76, avg_loss=0.2454, train_err=24.5366\n",
      "Eval: 64_h1=0.7167, 64_l2=0.2701\n",
      "[89] time=0.76, avg_loss=0.2368, train_err=23.6769\n",
      "Eval: 64_h1=0.7305, 64_l2=0.2742\n",
      "[90] time=0.75, avg_loss=0.2232, train_err=22.3234\n",
      "Eval: 64_h1=0.7404, 64_l2=0.2751\n",
      "[91] time=0.73, avg_loss=0.2131, train_err=21.3069\n",
      "Eval: 64_h1=0.7402, 64_l2=0.2750\n",
      "[92] time=0.74, avg_loss=0.2121, train_err=21.2066\n",
      "Eval: 64_h1=0.7231, 64_l2=0.2731\n",
      "[93] time=0.74, avg_loss=0.2204, train_err=22.0427\n",
      "Eval: 64_h1=0.7127, 64_l2=0.2697\n",
      "[94] time=0.74, avg_loss=0.2262, train_err=22.6246\n",
      "Eval: 64_h1=0.7426, 64_l2=0.2742\n",
      "[95] time=0.73, avg_loss=0.2355, train_err=23.5549\n",
      "Eval: 64_h1=0.7509, 64_l2=0.2776\n",
      "[96] time=0.75, avg_loss=0.2368, train_err=23.6805\n",
      "Eval: 64_h1=0.7514, 64_l2=0.2906\n",
      "[97] time=0.76, avg_loss=0.2486, train_err=24.8567\n",
      "Eval: 64_h1=0.7128, 64_l2=0.2714\n",
      "[98] time=0.75, avg_loss=0.2463, train_err=24.6346\n",
      "Eval: 64_h1=0.7122, 64_l2=0.2851\n",
      "[99] time=0.74, avg_loss=0.2297, train_err=22.9733\n",
      "Eval: 64_h1=0.7106, 64_l2=0.2855\n",
      "[100] time=0.75, avg_loss=0.2153, train_err=21.5261\n",
      "Eval: 64_h1=0.7110, 64_l2=0.2759\n",
      "[101] time=0.74, avg_loss=0.2027, train_err=20.2709\n",
      "Eval: 64_h1=0.7282, 64_l2=0.2753\n",
      "[102] time=0.75, avg_loss=0.1967, train_err=19.6682\n",
      "Eval: 64_h1=0.7368, 64_l2=0.2774\n",
      "[103] time=0.74, avg_loss=0.2063, train_err=20.6326\n",
      "Eval: 64_h1=0.7137, 64_l2=0.2734\n",
      "[104] time=0.76, avg_loss=0.2266, train_err=22.6576\n",
      "Eval: 64_h1=0.7184, 64_l2=0.2732\n",
      "[105] time=0.73, avg_loss=0.2437, train_err=24.3698\n",
      "Eval: 64_h1=0.7534, 64_l2=0.2799\n",
      "[106] time=0.75, avg_loss=0.2346, train_err=23.4593\n",
      "Eval: 64_h1=0.7523, 64_l2=0.2907\n",
      "[107] time=0.76, avg_loss=0.2172, train_err=21.7192\n",
      "Eval: 64_h1=0.7294, 64_l2=0.2734\n",
      "[108] time=0.75, avg_loss=0.1948, train_err=19.4818\n",
      "Eval: 64_h1=0.7227, 64_l2=0.2727\n",
      "[109] time=0.75, avg_loss=0.1855, train_err=18.5483\n",
      "Eval: 64_h1=0.7168, 64_l2=0.2739\n",
      "[110] time=0.74, avg_loss=0.1882, train_err=18.8195\n",
      "Eval: 64_h1=0.7107, 64_l2=0.2742\n",
      "[111] time=0.75, avg_loss=0.2009, train_err=20.0900\n",
      "Eval: 64_h1=0.7175, 64_l2=0.2725\n",
      "[112] time=0.76, avg_loss=0.2046, train_err=20.4625\n",
      "Eval: 64_h1=0.7357, 64_l2=0.2774\n",
      "[113] time=0.77, avg_loss=0.1993, train_err=19.9318\n",
      "Eval: 64_h1=0.7412, 64_l2=0.2810\n",
      "[114] time=0.75, avg_loss=0.1845, train_err=18.4470\n",
      "Eval: 64_h1=0.7355, 64_l2=0.2753\n",
      "[115] time=0.75, avg_loss=0.1771, train_err=17.7121\n",
      "Eval: 64_h1=0.7213, 64_l2=0.2740\n",
      "[116] time=0.76, avg_loss=0.1757, train_err=17.5655\n",
      "Eval: 64_h1=0.7097, 64_l2=0.2731\n",
      "[117] time=0.77, avg_loss=0.1802, train_err=18.0249\n",
      "Eval: 64_h1=0.7140, 64_l2=0.2717\n",
      "[118] time=0.75, avg_loss=0.1816, train_err=18.1626\n",
      "Eval: 64_h1=0.7327, 64_l2=0.2755\n",
      "[119] time=0.76, avg_loss=0.1794, train_err=17.9416\n",
      "Eval: 64_h1=0.7370, 64_l2=0.2781\n",
      "[120] time=0.76, avg_loss=0.1718, train_err=17.1793\n",
      "Eval: 64_h1=0.7304, 64_l2=0.2757\n",
      "[121] time=0.75, avg_loss=0.1660, train_err=16.6021\n",
      "Eval: 64_h1=0.7221, 64_l2=0.2746\n",
      "[122] time=0.74, avg_loss=0.1658, train_err=16.5830\n",
      "Eval: 64_h1=0.7144, 64_l2=0.2734\n",
      "[123] time=0.73, avg_loss=0.1663, train_err=16.6279\n",
      "Eval: 64_h1=0.7187, 64_l2=0.2727\n",
      "[124] time=0.75, avg_loss=0.1652, train_err=16.5174\n",
      "Eval: 64_h1=0.7295, 64_l2=0.2754\n",
      "[125] time=0.74, avg_loss=0.1637, train_err=16.3677\n",
      "Eval: 64_h1=0.7333, 64_l2=0.2770\n",
      "[126] time=0.74, avg_loss=0.1582, train_err=15.8244\n",
      "Eval: 64_h1=0.7288, 64_l2=0.2758\n",
      "[127] time=0.76, avg_loss=0.1560, train_err=15.5989\n",
      "Eval: 64_h1=0.7194, 64_l2=0.2746\n",
      "[128] time=0.74, avg_loss=0.1560, train_err=15.6038\n",
      "Eval: 64_h1=0.7156, 64_l2=0.2731\n",
      "[129] time=0.76, avg_loss=0.1542, train_err=15.4180\n",
      "Eval: 64_h1=0.7227, 64_l2=0.2738\n",
      "[130] time=0.77, avg_loss=0.1532, train_err=15.3248\n",
      "Eval: 64_h1=0.7298, 64_l2=0.2760\n",
      "[131] time=0.75, avg_loss=0.1512, train_err=15.1219\n",
      "Eval: 64_h1=0.7300, 64_l2=0.2762\n",
      "[132] time=0.76, avg_loss=0.1477, train_err=14.7683\n",
      "Eval: 64_h1=0.7245, 64_l2=0.2754\n",
      "[133] time=0.76, avg_loss=0.1470, train_err=14.7047\n",
      "Eval: 64_h1=0.7185, 64_l2=0.2741\n",
      "[134] time=0.75, avg_loss=0.1461, train_err=14.6141\n",
      "Eval: 64_h1=0.7200, 64_l2=0.2736\n",
      "[135] time=0.75, avg_loss=0.1440, train_err=14.3976\n",
      "Eval: 64_h1=0.7258, 64_l2=0.2749\n",
      "[136] time=0.76, avg_loss=0.1435, train_err=14.3481\n",
      "Eval: 64_h1=0.7280, 64_l2=0.2757\n",
      "[137] time=0.76, avg_loss=0.1409, train_err=14.0906\n",
      "Eval: 64_h1=0.7261, 64_l2=0.2756\n",
      "[138] time=0.75, avg_loss=0.1395, train_err=13.9471\n",
      "Eval: 64_h1=0.7219, 64_l2=0.2749\n",
      "[139] time=0.76, avg_loss=0.1391, train_err=13.9077\n",
      "Eval: 64_h1=0.7208, 64_l2=0.2741\n",
      "[140] time=0.75, avg_loss=0.1372, train_err=13.7194\n",
      "Eval: 64_h1=0.7238, 64_l2=0.2746\n",
      "[141] time=0.75, avg_loss=0.1365, train_err=13.6456\n",
      "Eval: 64_h1=0.7260, 64_l2=0.2753\n",
      "[142] time=0.76, avg_loss=0.1352, train_err=13.5175\n",
      "Eval: 64_h1=0.7256, 64_l2=0.2755\n",
      "[143] time=0.76, avg_loss=0.1337, train_err=13.3713\n",
      "Eval: 64_h1=0.7236, 64_l2=0.2752\n",
      "[144] time=0.75, avg_loss=0.1333, train_err=13.3312\n",
      "Eval: 64_h1=0.7225, 64_l2=0.2746\n",
      "[145] time=0.75, avg_loss=0.1321, train_err=13.2122\n",
      "Eval: 64_h1=0.7236, 64_l2=0.2747\n",
      "[146] time=0.76, avg_loss=0.1313, train_err=13.1348\n",
      "Eval: 64_h1=0.7248, 64_l2=0.2751\n",
      "[147] time=0.74, avg_loss=0.1306, train_err=13.0582\n",
      "Eval: 64_h1=0.7249, 64_l2=0.2754\n",
      "[148] time=0.75, avg_loss=0.1297, train_err=12.9729\n",
      "Eval: 64_h1=0.7241, 64_l2=0.2752\n",
      "[149] time=0.76, avg_loss=0.1293, train_err=12.9285\n",
      "Eval: 64_h1=0.7237, 64_l2=0.2749\n",
      "[150] time=0.74, avg_loss=0.1286, train_err=12.8624\n",
      "Eval: 64_h1=0.7241, 64_l2=0.2750\n",
      "[151] time=0.73, avg_loss=0.1281, train_err=12.8139\n",
      "Eval: 64_h1=0.7245, 64_l2=0.2752\n",
      "[152] time=0.74, avg_loss=0.1276, train_err=12.7644\n",
      "Eval: 64_h1=0.7245, 64_l2=0.2753\n",
      "[153] time=0.75, avg_loss=0.1272, train_err=12.7242\n",
      "Eval: 64_h1=0.7243, 64_l2=0.2752\n",
      "[154] time=0.76, avg_loss=0.1269, train_err=12.6860\n",
      "Eval: 64_h1=0.7244, 64_l2=0.2751\n",
      "[155] time=0.74, avg_loss=0.1265, train_err=12.6493\n",
      "Eval: 64_h1=0.7245, 64_l2=0.2752\n",
      "[156] time=0.75, avg_loss=0.1262, train_err=12.6158\n",
      "Eval: 64_h1=0.7246, 64_l2=0.2752\n",
      "[157] time=0.73, avg_loss=0.1258, train_err=12.5842\n",
      "Eval: 64_h1=0.7246, 64_l2=0.2752\n",
      "[158] time=0.74, avg_loss=0.1255, train_err=12.5542\n",
      "Eval: 64_h1=0.7246, 64_l2=0.2752\n",
      "[159] time=0.72, avg_loss=0.1253, train_err=12.5254\n",
      "Eval: 64_h1=0.7246, 64_l2=0.2753\n",
      "[160] time=0.73, avg_loss=0.1250, train_err=12.4984\n",
      "Eval: 64_h1=0.7247, 64_l2=0.2753\n",
      "[161] time=0.74, avg_loss=0.1247, train_err=12.4725\n",
      "Eval: 64_h1=0.7247, 64_l2=0.2753\n",
      "[162] time=0.75, avg_loss=0.1245, train_err=12.4479\n",
      "Eval: 64_h1=0.7247, 64_l2=0.2753\n",
      "[163] time=0.75, avg_loss=0.1242, train_err=12.4247\n",
      "Eval: 64_h1=0.7248, 64_l2=0.2753\n",
      "[164] time=0.75, avg_loss=0.1240, train_err=12.4026\n",
      "Eval: 64_h1=0.7248, 64_l2=0.2753\n",
      "[165] time=0.76, avg_loss=0.1238, train_err=12.3817\n",
      "Eval: 64_h1=0.7248, 64_l2=0.2753\n",
      "[166] time=0.76, avg_loss=0.1236, train_err=12.3620\n",
      "Eval: 64_h1=0.7248, 64_l2=0.2753\n",
      "[167] time=0.75, avg_loss=0.1234, train_err=12.3433\n",
      "Eval: 64_h1=0.7249, 64_l2=0.2753\n",
      "[168] time=0.76, avg_loss=0.1233, train_err=12.3257\n",
      "Eval: 64_h1=0.7249, 64_l2=0.2753\n",
      "[169] time=0.74, avg_loss=0.1231, train_err=12.3091\n",
      "Eval: 64_h1=0.7249, 64_l2=0.2753\n",
      "[170] time=0.76, avg_loss=0.1229, train_err=12.2935\n",
      "Eval: 64_h1=0.7249, 64_l2=0.2753\n",
      "[171] time=0.74, avg_loss=0.1228, train_err=12.2790\n",
      "Eval: 64_h1=0.7249, 64_l2=0.2753\n",
      "[172] time=0.75, avg_loss=0.1227, train_err=12.2653\n",
      "Eval: 64_h1=0.7250, 64_l2=0.2753\n",
      "[173] time=0.75, avg_loss=0.1225, train_err=12.2526\n",
      "Eval: 64_h1=0.7250, 64_l2=0.2754\n",
      "[174] time=0.76, avg_loss=0.1224, train_err=12.2407\n",
      "Eval: 64_h1=0.7250, 64_l2=0.2754\n",
      "[175] time=0.75, avg_loss=0.1223, train_err=12.2296\n",
      "Eval: 64_h1=0.7250, 64_l2=0.2754\n",
      "[176] time=0.76, avg_loss=0.1222, train_err=12.2194\n",
      "Eval: 64_h1=0.7250, 64_l2=0.2754\n",
      "[177] time=0.74, avg_loss=0.1221, train_err=12.2100\n",
      "Eval: 64_h1=0.7250, 64_l2=0.2754\n",
      "[178] time=0.76, avg_loss=0.1220, train_err=12.2012\n",
      "Eval: 64_h1=0.7250, 64_l2=0.2754\n",
      "[179] time=0.75, avg_loss=0.1219, train_err=12.1933\n",
      "Eval: 64_h1=0.7251, 64_l2=0.2754\n",
      "[180] time=0.76, avg_loss=0.1219, train_err=12.1860\n",
      "Eval: 64_h1=0.7251, 64_l2=0.2754\n",
      "[181] time=0.75, avg_loss=0.1218, train_err=12.1793\n",
      "Eval: 64_h1=0.7251, 64_l2=0.2754\n",
      "[182] time=0.75, avg_loss=0.1217, train_err=12.1733\n",
      "Eval: 64_h1=0.7251, 64_l2=0.2754\n",
      "[183] time=0.76, avg_loss=0.1217, train_err=12.1679\n",
      "Eval: 64_h1=0.7251, 64_l2=0.2754\n",
      "[184] time=0.75, avg_loss=0.1216, train_err=12.1631\n",
      "Eval: 64_h1=0.7251, 64_l2=0.2754\n",
      "[185] time=0.73, avg_loss=0.1216, train_err=12.1587\n",
      "Eval: 64_h1=0.7251, 64_l2=0.2754\n",
      "[186] time=0.74, avg_loss=0.1215, train_err=12.1549\n",
      "Eval: 64_h1=0.7251, 64_l2=0.2754\n",
      "[187] time=0.75, avg_loss=0.1215, train_err=12.1516\n",
      "Eval: 64_h1=0.7251, 64_l2=0.2754\n",
      "[188] time=0.75, avg_loss=0.1215, train_err=12.1488\n",
      "Eval: 64_h1=0.7251, 64_l2=0.2754\n",
      "[189] time=0.75, avg_loss=0.1215, train_err=12.1463\n",
      "Eval: 64_h1=0.7251, 64_l2=0.2754\n",
      "[190] time=0.74, avg_loss=0.1214, train_err=12.1442\n",
      "Eval: 64_h1=0.7251, 64_l2=0.2754\n",
      "[191] time=0.76, avg_loss=0.1214, train_err=12.1425\n",
      "Eval: 64_h1=0.7251, 64_l2=0.2754\n",
      "[192] time=0.77, avg_loss=0.1214, train_err=12.1411\n",
      "Eval: 64_h1=0.7251, 64_l2=0.2754\n",
      "[193] time=0.75, avg_loss=0.1214, train_err=12.1400\n",
      "Eval: 64_h1=0.7251, 64_l2=0.2754\n",
      "[194] time=0.77, avg_loss=0.1214, train_err=12.1392\n",
      "Eval: 64_h1=0.7251, 64_l2=0.2754\n",
      "[195] time=0.74, avg_loss=0.1214, train_err=12.1385\n",
      "Eval: 64_h1=0.7251, 64_l2=0.2754\n",
      "[196] time=0.74, avg_loss=0.1214, train_err=12.1381\n",
      "Eval: 64_h1=0.7251, 64_l2=0.2754\n",
      "[197] time=0.76, avg_loss=0.1214, train_err=12.1378\n",
      "Eval: 64_h1=0.7251, 64_l2=0.2754\n",
      "[198] time=0.74, avg_loss=0.1214, train_err=12.1376\n",
      "Eval: 64_h1=0.7251, 64_l2=0.2754\n",
      "[199] time=0.73, avg_loss=0.1214, train_err=12.1376\n",
      "Eval: 64_h1=0.7251, 64_l2=0.2754\n"
     ]
    },
    {
     "data": {
      "text/plain": [
       "{'train_err': 12.137557592737377,\n",
       " 'avg_loss': 0.12137557592737377,\n",
       " 'avg_lasso_loss': None,\n",
       " 'epoch_train_time': 0.7341723619028926,\n",
       " '64_h1': tensor(0.7251, device='cuda:0', dtype=torch.float64),\n",
       " '64_l2': tensor(0.2754, device='cuda:0', dtype=torch.float64)}"
      ]
     },
     "execution_count": 6,
     "metadata": {},
     "output_type": "execute_result"
    }
   ],
   "source": [
    "trainer = Trainer(model=model, \n",
    "                  n_epochs=n_epochs,\n",
    "                  device=device,\n",
    "                  data_processor=data_processor,\n",
    "                  wandb_log=True,\n",
    "                  eval_interval=1,\n",
    "                  use_distributed=False,\n",
    "                  verbose=True)\n",
    "\n",
    "trainer.train(train_loader=train_loader,\n",
    "              test_loaders=test_loaders,\n",
    "              optimizer=optimizer,\n",
    "              scheduler=scheduler, \n",
    "              regularizer=False, \n",
    "              training_loss=train_loss,\n",
    "              eval_losses=eval_losses)"
   ]
  },
  {
   "cell_type": "code",
   "execution_count": 7,
   "id": "2e4f762c",
   "metadata": {},
   "outputs": [
    {
     "name": "stderr",
     "output_type": "stream",
     "text": [
      "\u001b[34m\u001b[1mwandb\u001b[0m: \u001b[32m\u001b[41mERROR\u001b[0m The nbformat package was not found. It is required to save notebook history.\n"
     ]
    },
    {
     "data": {
      "text/html": [],
      "text/plain": [
       "<IPython.core.display.HTML object>"
      ]
     },
     "metadata": {},
     "output_type": "display_data"
    },
    {
     "data": {
      "text/html": [
       "<br>    <style><br>        .wandb-row {<br>            display: flex;<br>            flex-direction: row;<br>            flex-wrap: wrap;<br>            justify-content: flex-start;<br>            width: 100%;<br>        }<br>        .wandb-col {<br>            display: flex;<br>            flex-direction: column;<br>            flex-basis: 100%;<br>            flex: 1;<br>            padding: 10px;<br>        }<br>    </style><br><div class=\"wandb-row\"><div class=\"wandb-col\"><h3>Run history:</h3><br/><table class=\"wandb\"><tr><td>64_h1</td><td>█▇▂▂▂▁▁▁▂▂▂▃▂▂▃▃▃▃▂▃▂▃▃▂▂▃▃▃▂▂▂▂▂▂▂▂▂▂▂▂</td></tr><tr><td>64_l2</td><td>█▁▁▁▁▁▁▁▁▁▁▁▁▁▁▁▁▁▁▁▁▂▁▁▁▁▁▁▁▁▁▁▁▁▁▁▁▁▁▁</td></tr><tr><td>avg_loss</td><td>█▅▅▅▄▄▃▄▃▃▃▂▂▂▂▂▂▂▂▂▂▂▂▁▁▁▁▁▁▁▁▁▁▁▁▁▁▁▁▁</td></tr><tr><td>lr</td><td>███████████▇▇▇▇▇▆▆▅▅▅▄▄▄▄▃▃▃▂▂▂▂▂▁▁▁▁▁▁▁</td></tr><tr><td>time</td><td>▆▅▄█▇▁▆▇▅▇▅▆▆▆▆▃▅▄▅▅▃▅▂▆▄▄▄▄▆▄▅▄▄▃▄▅▄▅▅▃</td></tr><tr><td>train_err</td><td>█▇▅▅▅▄▄▄▄▄▃▃▃▃▂▂▂▂▂▂▂▂▂▂▂▁▁▁▁▁▁▁▁▁▁▁▁▁▁▁</td></tr></table><br/></div><div class=\"wandb-col\"><h3>Run summary:</h3><br/><table class=\"wandb\"><tr><td>64_h1</td><td>0.72512</td></tr><tr><td>64_l2</td><td>0.27539</td></tr><tr><td>avg_loss</td><td>0.12138</td></tr><tr><td>lr</td><td>0</td></tr><tr><td>time</td><td>0.73417</td></tr><tr><td>train_err</td><td>12.13756</td></tr></table><br/></div></div>"
      ],
      "text/plain": [
       "<IPython.core.display.HTML object>"
      ]
     },
     "metadata": {},
     "output_type": "display_data"
    },
    {
     "data": {
      "text/html": [
       " View run <strong style=\"color:#cdcd00\">FNO_20250910_003525</strong> at: <a href='https://wandb.ai/tjwoals217-Chung-Ang%20University/Samsung_Project/runs/cd9adesp' target=\"_blank\">https://wandb.ai/tjwoals217-Chung-Ang%20University/Samsung_Project/runs/cd9adesp</a><br> View project at: <a href='https://wandb.ai/tjwoals217-Chung-Ang%20University/Samsung_Project' target=\"_blank\">https://wandb.ai/tjwoals217-Chung-Ang%20University/Samsung_Project</a><br>Synced 5 W&B file(s), 0 media file(s), 0 artifact file(s) and 0 other file(s)"
      ],
      "text/plain": [
       "<IPython.core.display.HTML object>"
      ]
     },
     "metadata": {},
     "output_type": "display_data"
    },
    {
     "data": {
      "text/html": [
       "Find logs at: <code>./wandb/run-20250910_003526-cd9adesp/logs</code>"
      ],
      "text/plain": [
       "<IPython.core.display.HTML object>"
      ]
     },
     "metadata": {},
     "output_type": "display_data"
    }
   ],
   "source": [
    "wandb.finish()"
   ]
  },
  {
   "cell_type": "code",
   "execution_count": 8,
   "id": "45c4fa14",
   "metadata": {},
   "outputs": [
    {
     "name": "stdout",
     "output_type": "stream",
     "text": [
      "L2 error (0) : 0.3531563434470581\n",
      "L2 error (1) : 0.2613685445594175\n",
      "L2 error (2) : 0.12987874896225063\n"
     ]
    },
    {
     "name": "stderr",
     "output_type": "stream",
     "text": [
      "/home/jaeminseo/anaconda3/envs/PINN2/lib/python3.11/site-packages/tltorch/factorized_tensors/factorized_tensors.py:66: UserWarning: Using a non-tuple sequence for multidimensional indexing is deprecated and will be changed in pytorch 2.9; use x[tuple(seq)] instead of x[seq]. In pytorch 2.9 this will be interpreted as tensor index, x[torch.tensor(seq)], which will result either in an error or a different result (Triggered internally at /pytorch/torch/csrc/autograd/python_variable_indexing.cpp:306.)\n",
      "  return self.__class__(self.tensor[indices])\n",
      "/home/jaeminseo/Documents/neuraloperator-main4/neuralop/layers/spectral_convolution.py:486: UserWarning: Using a non-tuple sequence for multidimensional indexing is deprecated and will be changed in pytorch 2.9; use x[tuple(seq)] instead of x[seq]. In pytorch 2.9 this will be interpreted as tensor index, x[torch.tensor(seq)], which will result either in an error or a different result (Triggered internally at /pytorch/torch/csrc/autograd/python_variable_indexing.cpp:306.)\n",
      "  out_fft[slices_x] = self._contract(x[slices_x], weight, separable=self.separable)\n",
      "/home/jaeminseo/anaconda3/envs/PINN2/lib/python3.11/site-packages/tltorch/factorized_tensors/factorized_tensors.py:66: UserWarning: Using a non-tuple sequence for multidimensional indexing is deprecated and will be changed in pytorch 2.9; use x[tuple(seq)] instead of x[seq]. In pytorch 2.9 this will be interpreted as tensor index, x[torch.tensor(seq)], which will result either in an error or a different result (Triggered internally at /pytorch/torch/csrc/autograd/python_variable_indexing.cpp:306.)\n",
      "  return self.__class__(self.tensor[indices])\n",
      "/home/jaeminseo/Documents/neuraloperator-main4/neuralop/layers/spectral_convolution.py:486: UserWarning: Using a non-tuple sequence for multidimensional indexing is deprecated and will be changed in pytorch 2.9; use x[tuple(seq)] instead of x[seq]. In pytorch 2.9 this will be interpreted as tensor index, x[torch.tensor(seq)], which will result either in an error or a different result (Triggered internally at /pytorch/torch/csrc/autograd/python_variable_indexing.cpp:306.)\n",
      "  out_fft[slices_x] = self._contract(x[slices_x], weight, separable=self.separable)\n"
     ]
    },
    {
     "data": {
      "image/png": "[encoded data removed]",
      "text/plain": [
       "<Figure size 1000x1000 with 15 Axes>"
      ]
     },
     "metadata": {},
     "output_type": "display_data"
    }
   ],
   "source": [
    "test_samples = test_loaders[64].dataset\n",
    "\n",
    "# Step 1: Compute global min and max for consistent color scaling\n",
    "vmin, vmax = float('inf'), float('-inf')\n",
    "for index in range(3):\n",
    "    data = test_samples[index]\n",
    "    data = data_processor.preprocess(data, batched=False)\n",
    "\n",
    "    x = data['x']\n",
    "    y = data['y']\n",
    "    out = model(x.unsqueeze(0))\n",
    "\n",
    "    y = data_processor.out_normalizer.inverse_transform(y).squeeze().detach()\n",
    "    out = data_processor.out_normalizer.inverse_transform(out).squeeze().detach()\n",
    "\n",
    "    vmin = min(vmin, y.min().item(), out.min().item())\n",
    "    vmax = max(vmax, y.max().item(), out.max().item())\n",
    "\n",
    "# Step 2: Plot with consistent vmin/vmax and add colorbars\n",
    "fig = plt.figure(figsize=(10, 10))\n",
    "\n",
    "for index in range(3):\n",
    "    data = test_samples[index]\n",
    "    data = data_processor.preprocess(data, batched=False)\n",
    "\n",
    "    x = data['x'].to(device)\n",
    "    y = data['y'].to(device)\n",
    "    out = model(x.unsqueeze(0)).squeeze().detach()\n",
    "\n",
    "    # y = data_processor.out_normalizer.inverse_transform(y)\n",
    "    out = data_processor.out_normalizer.inverse_transform(out)\n",
    "\n",
    "    # Input x\n",
    "    ax = fig.add_subplot(3, 3, index * 3 + 1)\n",
    "    im = ax.imshow(x[0].cpu(), cmap='gray')\n",
    "    if index == 0: \n",
    "        ax.set_title('Input x')\n",
    "    plt.xticks([], [])\n",
    "    plt.yticks([], [])\n",
    "    \n",
    "    # Ground-truth y\n",
    "    ax = fig.add_subplot(3, 3, index * 3 + 2)\n",
    "    im = ax.imshow(y.squeeze().cpu(), vmin=vmin, vmax=vmax)\n",
    "    if index == 0: \n",
    "        ax.set_title('Ground-truth y')\n",
    "    plt.xticks([], [])\n",
    "    plt.yticks([], [])\n",
    "    fig.colorbar(im, ax=ax, fraction=0.046, pad=0.04)\n",
    "\n",
    "    # Model prediction\n",
    "    ax = fig.add_subplot(3, 3, index * 3 + 3)\n",
    "    im = ax.imshow(out.squeeze().cpu(), vmin=vmin, vmax=vmax)\n",
    "    if index == 0: \n",
    "        ax.set_title('Model prediction')\n",
    "    plt.xticks([], [])\n",
    "    plt.yticks([], [])\n",
    "    fig.colorbar(im, ax=ax, fraction=0.046, pad=0.04)\n",
    "\n",
    "    print(f'L2 error ({index}) : {torch.norm(out - y) / torch.norm(y)}')\n",
    "\n",
    "fig.suptitle('Inputs, ground-truth output and prediction.', y=0.98)\n",
    "plt.tight_layout()\n",
    "plt.show()"
   ]
  },
  {
   "cell_type": "code",
   "execution_count": null,
   "id": "739340ab",
   "metadata": {},
   "outputs": [],
   "source": []
  }
 ],
 "metadata": {
  "kernelspec": {
   "display_name": "PINN2",
   "language": "python",
   "name": "python3"
  },
  "language_info": {
   "codemirror_mode": {
    "name": "ipython",
    "version": 3
   },
   "file_extension": ".py",
   "mimetype": "text/x-python",
   "name": "python",
   "nbconvert_exporter": "python",
   "pygments_lexer": "ipython3",
   "version": "3.11.13"
  }
 },
 "nbformat": 4,
 "nbformat_minor": 5
}
